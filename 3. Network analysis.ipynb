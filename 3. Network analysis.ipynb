{
 "cells": [
  {
   "cell_type": "markdown",
   "id": "33957a63",
   "metadata": {},
   "source": [
    "# Import packages and load data"
   ]
  },
  {
   "cell_type": "code",
   "execution_count": 1,
   "id": "e093d0d0",
   "metadata": {},
   "outputs": [
    {
     "name": "stdout",
     "output_type": "stream",
     "text": [
      "Note: to be able to use all crisp methods, you need to install some additional packages:  {'graph_tool', 'infomap', 'leidenalg', 'bayanpy'}\n",
      "Note: to be able to use all crisp methods, you need to install some additional packages:  {'ASLPAw', 'pyclustering'}\n",
      "Note: to be able to use all crisp methods, you need to install some additional packages:  {'infomap', 'leidenalg'}\n"
     ]
    }
   ],
   "source": [
    "import pandas as pd\n",
    "import numpy as np\n",
    "import math\n",
    "\n",
    "from NetworkClass import NetworkClass"
   ]
  },
  {
   "cell_type": "markdown",
   "id": "be8a4139",
   "metadata": {},
   "source": [
    "# Load data and assign them to network class"
   ]
  },
  {
   "cell_type": "code",
   "execution_count": 2,
   "id": "73d71b17",
   "metadata": {},
   "outputs": [
    {
     "data": {
      "text/html": [
       "<div>\n",
       "<style scoped>\n",
       "    .dataframe tbody tr th:only-of-type {\n",
       "        vertical-align: middle;\n",
       "    }\n",
       "\n",
       "    .dataframe tbody tr th {\n",
       "        vertical-align: top;\n",
       "    }\n",
       "\n",
       "    .dataframe thead th {\n",
       "        text-align: right;\n",
       "    }\n",
       "</style>\n",
       "<table border=\"1\" class=\"dataframe\">\n",
       "  <thead>\n",
       "    <tr style=\"text-align: right;\">\n",
       "      <th></th>\n",
       "      <th>lang_1</th>\n",
       "      <th>lang_2</th>\n",
       "      <th>weight</th>\n",
       "    </tr>\n",
       "  </thead>\n",
       "  <tbody>\n",
       "    <tr>\n",
       "      <th>0</th>\n",
       "      <td>English</td>\n",
       "      <td>German</td>\n",
       "      <td>3885</td>\n",
       "    </tr>\n",
       "    <tr>\n",
       "      <th>1</th>\n",
       "      <td>English</td>\n",
       "      <td>French</td>\n",
       "      <td>4702</td>\n",
       "    </tr>\n",
       "    <tr>\n",
       "      <th>2</th>\n",
       "      <td>English</td>\n",
       "      <td>Dutch</td>\n",
       "      <td>2686</td>\n",
       "    </tr>\n",
       "    <tr>\n",
       "      <th>3</th>\n",
       "      <td>English</td>\n",
       "      <td>Russian</td>\n",
       "      <td>2050</td>\n",
       "    </tr>\n",
       "    <tr>\n",
       "      <th>4</th>\n",
       "      <td>English</td>\n",
       "      <td>Spanish</td>\n",
       "      <td>2866</td>\n",
       "    </tr>\n",
       "    <tr>\n",
       "      <th>...</th>\n",
       "      <td>...</td>\n",
       "      <td>...</td>\n",
       "      <td>...</td>\n",
       "    </tr>\n",
       "    <tr>\n",
       "      <th>185</th>\n",
       "      <td>Catalan</td>\n",
       "      <td>Indonesian</td>\n",
       "      <td>10</td>\n",
       "    </tr>\n",
       "    <tr>\n",
       "      <th>186</th>\n",
       "      <td>Catalan</td>\n",
       "      <td>Korean</td>\n",
       "      <td>7</td>\n",
       "    </tr>\n",
       "    <tr>\n",
       "      <th>187</th>\n",
       "      <td>Serbian</td>\n",
       "      <td>Indonesian</td>\n",
       "      <td>4</td>\n",
       "    </tr>\n",
       "    <tr>\n",
       "      <th>188</th>\n",
       "      <td>Serbian</td>\n",
       "      <td>Korean</td>\n",
       "      <td>2</td>\n",
       "    </tr>\n",
       "    <tr>\n",
       "      <th>189</th>\n",
       "      <td>Indonesian</td>\n",
       "      <td>Korean</td>\n",
       "      <td>36</td>\n",
       "    </tr>\n",
       "  </tbody>\n",
       "</table>\n",
       "<p>190 rows × 3 columns</p>\n",
       "</div>"
      ],
      "text/plain": [
       "         lang_1      lang_2  weight\n",
       "0       English      German    3885\n",
       "1       English      French    4702\n",
       "2       English       Dutch    2686\n",
       "3       English     Russian    2050\n",
       "4       English     Spanish    2866\n",
       "..          ...         ...     ...\n",
       "185     Catalan  Indonesian      10\n",
       "186     Catalan      Korean       7\n",
       "187     Serbian  Indonesian       4\n",
       "188     Serbian      Korean       2\n",
       "189  Indonesian      Korean      36\n",
       "\n",
       "[190 rows x 3 columns]"
      ]
     },
     "execution_count": 2,
     "metadata": {},
     "output_type": "execute_result"
    }
   ],
   "source": [
    "df = pd.read_csv('raw/Edges.csv',index_col=0)\n",
    "df"
   ]
  },
  {
   "cell_type": "code",
   "execution_count": 3,
   "id": "913db625",
   "metadata": {},
   "outputs": [],
   "source": [
    "network = NetworkClass(data = df,node_col='lang_1',neighbor_col='lang_2',edge_weight_col='weight',drop_edges_viz=100)"
   ]
  },
  {
   "cell_type": "markdown",
   "id": "92eaf868",
   "metadata": {},
   "source": [
    "## Add node size"
   ]
  },
  {
   "cell_type": "code",
   "execution_count": 4,
   "id": "2c3934bc",
   "metadata": {},
   "outputs": [
    {
     "data": {
      "text/html": [
       "<div>\n",
       "<style scoped>\n",
       "    .dataframe tbody tr th:only-of-type {\n",
       "        vertical-align: middle;\n",
       "    }\n",
       "\n",
       "    .dataframe tbody tr th {\n",
       "        vertical-align: top;\n",
       "    }\n",
       "\n",
       "    .dataframe thead th {\n",
       "        text-align: right;\n",
       "    }\n",
       "</style>\n",
       "<table border=\"1\" class=\"dataframe\">\n",
       "  <thead>\n",
       "    <tr style=\"text-align: right;\">\n",
       "      <th></th>\n",
       "      <th>size</th>\n",
       "    </tr>\n",
       "    <tr>\n",
       "      <th>id</th>\n",
       "      <th></th>\n",
       "    </tr>\n",
       "  </thead>\n",
       "  <tbody>\n",
       "    <tr>\n",
       "      <th>English</th>\n",
       "      <td>322.877129</td>\n",
       "    </tr>\n",
       "    <tr>\n",
       "      <th>German</th>\n",
       "      <td>209.556600</td>\n",
       "    </tr>\n",
       "    <tr>\n",
       "      <th>French</th>\n",
       "      <td>198.835909</td>\n",
       "    </tr>\n",
       "    <tr>\n",
       "      <th>Dutch</th>\n",
       "      <td>182.216947</td>\n",
       "    </tr>\n",
       "    <tr>\n",
       "      <th>Russian</th>\n",
       "      <td>173.343139</td>\n",
       "    </tr>\n",
       "    <tr>\n",
       "      <th>Spanish</th>\n",
       "      <td>171.000046</td>\n",
       "    </tr>\n",
       "    <tr>\n",
       "      <th>Italian</th>\n",
       "      <td>168.417543</td>\n",
       "    </tr>\n",
       "    <tr>\n",
       "      <th>Egyptian Arabic</th>\n",
       "      <td>158.997396</td>\n",
       "    </tr>\n",
       "    <tr>\n",
       "      <th>Polish</th>\n",
       "      <td>156.696512</td>\n",
       "    </tr>\n",
       "    <tr>\n",
       "      <th>Japanese</th>\n",
       "      <td>146.716350</td>\n",
       "    </tr>\n",
       "    <tr>\n",
       "      <th>Chinese</th>\n",
       "      <td>145.893583</td>\n",
       "    </tr>\n",
       "    <tr>\n",
       "      <th>Vietnamese</th>\n",
       "      <td>141.663223</td>\n",
       "    </tr>\n",
       "    <tr>\n",
       "      <th>Ukrainian</th>\n",
       "      <td>140.809324</td>\n",
       "    </tr>\n",
       "    <tr>\n",
       "      <th>Arabic</th>\n",
       "      <td>137.430323</td>\n",
       "    </tr>\n",
       "    <tr>\n",
       "      <th>Portuguese</th>\n",
       "      <td>131.310224</td>\n",
       "    </tr>\n",
       "    <tr>\n",
       "      <th>Persian</th>\n",
       "      <td>122.850328</td>\n",
       "    </tr>\n",
       "    <tr>\n",
       "      <th>Catalan</th>\n",
       "      <td>106.784172</td>\n",
       "    </tr>\n",
       "    <tr>\n",
       "      <th>Serbian</th>\n",
       "      <td>102.450827</td>\n",
       "    </tr>\n",
       "    <tr>\n",
       "      <th>Indonesian</th>\n",
       "      <td>100.924090</td>\n",
       "    </tr>\n",
       "    <tr>\n",
       "      <th>Korean</th>\n",
       "      <td>99.845271</td>\n",
       "    </tr>\n",
       "  </tbody>\n",
       "</table>\n",
       "</div>"
      ],
      "text/plain": [
       "                       size\n",
       "id                         \n",
       "English          322.877129\n",
       "German           209.556600\n",
       "French           198.835909\n",
       "Dutch            182.216947\n",
       "Russian          173.343139\n",
       "Spanish          171.000046\n",
       "Italian          168.417543\n",
       "Egyptian Arabic  158.997396\n",
       "Polish           156.696512\n",
       "Japanese         146.716350\n",
       "Chinese          145.893583\n",
       "Vietnamese       141.663223\n",
       "Ukrainian        140.809324\n",
       "Arabic           137.430323\n",
       "Portuguese       131.310224\n",
       "Persian          122.850328\n",
       "Catalan          106.784172\n",
       "Serbian          102.450827\n",
       "Indonesian       100.924090\n",
       "Korean            99.845271"
      ]
     },
     "execution_count": 4,
     "metadata": {},
     "output_type": "execute_result"
    }
   ],
   "source": [
    "df_size = pd.read_csv('raw/Node sizes.csv',index_col=0).head(20).rename(columns={'Language':'id','Articles':'size'})[['id','size']]\n",
    "df_size = df_size.set_index('id')\n",
    "df_size['size'] = df_size['size'].apply(lambda x: np.sqrt(x)/8)\n",
    "df_size"
   ]
  },
  {
   "cell_type": "code",
   "execution_count": 5,
   "id": "a1dfbda3",
   "metadata": {
    "scrolled": true
   },
   "outputs": [],
   "source": [
    "network.add_node_attr(data=df_size,attr_name='size')"
   ]
  },
  {
   "cell_type": "code",
   "execution_count": 6,
   "id": "e83ea804",
   "metadata": {},
   "outputs": [
    {
     "name": "stdout",
     "output_type": "stream",
     "text": [
      "out/network.html\n"
     ]
    }
   ],
   "source": [
    "network.show_network('out/network.html')"
   ]
  },
  {
   "cell_type": "code",
   "execution_count": 7,
   "id": "129a518f",
   "metadata": {},
   "outputs": [
    {
     "data": {
      "text/plain": [
       "EdgeDataView([('English', 'German', {'width': 62.32976816898969}), ('English', 'French', {'width': 68.57113095173507}), ('English', 'Dutch', {'width': 51.82663407939975}), ('English', 'Russian', {'width': 45.27692569068709}), ('English', 'Spanish', {'width': 53.53503525729669}), ('English', 'Italian', {'width': 51.65268628057983}), ('English', 'Egyptian Arabic', {'width': 69.42621983083913}), ('English', 'Polish', {'width': 44.710177812216315}), ('English', 'Japanese', {'width': 35.11409973215888}), ('English', 'Chinese', {'width': 40.01249804748511}), ('English', 'Vietnamese', {'width': 44.474711915874174}), ('English', 'Ukrainian', {'width': 38.39270764090493}), ('English', 'Arabic', {'width': 57.18391382198319}), ('English', 'Portuguese', {'width': 37.44329045369811}), ('English', 'Persian', {'width': 47.46577714522327}), ('English', 'Catalan', {'width': 23.345235059857504}), ('English', 'Serbian', {'width': 20.54263858417414}), ('English', 'Indonesian', {'width': 29.597297173897484}), ('English', 'Korean', {'width': 22.44994432064365}), ('German', 'French', {'width': 39.03844259188627}), ('German', 'Dutch', {'width': 25.25866188063018}), ('German', 'Russian', {'width': 25.80697580112788}), ('German', 'Spanish', {'width': 22.781571499789035}), ('German', 'Italian', {'width': 29.597297173897484}), ('German', 'Egyptian Arabic', {'width': 31.22498999199199}), ('German', 'Polish', {'width': 26.457513110645905}), ('German', 'Japanese', {'width': 14.2828568570857}), ('German', 'Chinese', {'width': 18.65475810617763}), ('German', 'Vietnamese', {'width': 10.44030650891055}), ('German', 'Ukrainian', {'width': 18.138357147217054}), ('German', 'Arabic', {'width': 19.924858845171276}), ('German', 'Portuguese', {'width': 15.716233645501712}), ('German', 'Persian', {'width': 12.84523257866513}), ('German', 'Catalan', {'width': 11.445523142259598}), ('German', 'Serbian', {'width': 10.099504938362077}), ('French', 'Dutch', {'width': 29.171904291629644}), ('French', 'Russian', {'width': 22.44994432064365}), ('French', 'Spanish', {'width': 29.765752132274432}), ('French', 'Italian', {'width': 32.95451410656816}), ('French', 'Egyptian Arabic', {'width': 29.427877939124322}), ('French', 'Polish', {'width': 29.478805945967352}), ('French', 'Japanese', {'width': 16.822603841260722}), ('French', 'Chinese', {'width': 14.696938456699069}), ('French', 'Vietnamese', {'width': 19.261360284258224}), ('French', 'Ukrainian', {'width': 21.142374511865974}), ('French', 'Arabic', {'width': 24.0}), ('French', 'Portuguese', {'width': 21.908902300206645}), ('French', 'Persian', {'width': 15.588457268119896}), ('French', 'Catalan', {'width': 15.84297951775486}), ('French', 'Serbian', {'width': 12.083045973594572}), ('French', 'Indonesian', {'width': 11.61895003862225}), ('Dutch', 'Russian', {'width': 13.45362404707371}), ('Dutch', 'Spanish', {'width': 27.53179979587241}), ('Dutch', 'Italian', {'width': 16.76305461424021}), ('Dutch', 'Egyptian Arabic', {'width': 13.30413469565007}), ('Dutch', 'Polish', {'width': 20.54263858417414}), ('Dutch', 'Chinese', {'width': 15.491933384829668}), ('Dutch', 'Vietnamese', {'width': 49.98999899979995}), ('Dutch', 'Ukrainian', {'width': 11.045361017187261}), ('Dutch', 'Portuguese', {'width': 16.792855623746664}), ('Dutch', 'Catalan', {'width': 13.856406460551018}), ('Dutch', 'Indonesian', {'width': 29.698484809834994}), ('Russian', 'Spanish', {'width': 17.291616465790582}), ('Russian', 'Italian', {'width': 18.193405398660254}), ('Russian', 'Egyptian Arabic', {'width': 17.406895185529212}), ('Russian', 'Polish', {'width': 23.53720459187964}), ('Russian', 'Japanese', {'width': 11.0}), ('Russian', 'Chinese', {'width': 17.86057109949175}), ('Russian', 'Ukrainian', {'width': 42.391036788453285}), ('Russian', 'Arabic', {'width': 11.575836902790225}), ('Russian', 'Portuguese', {'width': 10.770329614269007}), ('Russian', 'Persian', {'width': 14.071247279470288}), ('Spanish', 'Italian', {'width': 23.853720883753127}), ('Spanish', 'Egyptian Arabic', {'width': 19.4164878389476}), ('Spanish', 'Polish', {'width': 16.46207763315433}), ('Spanish', 'Japanese', {'width': 10.954451150103322}), ('Spanish', 'Chinese', {'width': 16.583123951777}), ('Spanish', 'Vietnamese', {'width': 27.294688127912362}), ('Spanish', 'Ukrainian', {'width': 12.569805089976535}), ('Spanish', 'Arabic', {'width': 16.09347693943108}), ('Spanish', 'Portuguese', {'width': 22.271057451320086}), ('Spanish', 'Persian', {'width': 10.770329614269007}), ('Spanish', 'Catalan', {'width': 23.916521486202797}), ('Spanish', 'Indonesian', {'width': 12.36931687685298}), ('Italian', 'Egyptian Arabic', {'width': 20.663978319771825}), ('Italian', 'Polish', {'width': 16.73320053068151}), ('Italian', 'Japanese', {'width': 11.916375287812984}), ('Italian', 'Chinese', {'width': 12.24744871391589}), ('Italian', 'Ukrainian', {'width': 13.564659966250536}), ('Italian', 'Arabic', {'width': 14.212670403551895}), ('Italian', 'Portuguese', {'width': 15.556349186104045}), ('Italian', 'Persian', {'width': 12.806248474865697}), ('Italian', 'Catalan', {'width': 12.36931687685298}), ('Egyptian Arabic', 'Polish', {'width': 18.708286933869708}), ('Egyptian Arabic', 'Japanese', {'width': 11.958260743101398}), ('Egyptian Arabic', 'Chinese', {'width': 11.74734012447073}), ('Egyptian Arabic', 'Ukrainian', {'width': 16.522711641858304}), ('Egyptian Arabic', 'Arabic', {'width': 46.75467891024384}), ('Egyptian Arabic', 'Portuguese', {'width': 17.0}), ('Egyptian Arabic', 'Persian', {'width': 29.103264421710495}), ('Egyptian Arabic', 'Serbian', {'width': 12.36931687685298}), ('Polish', 'Chinese', {'width': 11.874342087037917}), ('Polish', 'Vietnamese', {'width': 12.0}), ('Polish', 'Ukrainian', {'width': 29.597297173897484}), ('Polish', 'Arabic', {'width': 10.583005244258363}), ('Polish', 'Portuguese', {'width': 11.045361017187261}), ('Polish', 'Persian', {'width': 11.090536506409418}), ('Polish', 'Serbian', {'width': 14.45683229480096}), ('Japanese', 'Chinese', {'width': 25.278449319529077}), ('Japanese', 'Korean', {'width': 19.339079605813716}), ('Chinese', 'Vietnamese', {'width': 18.627936010197157}), ('Chinese', 'Ukrainian', {'width': 15.588457268119896}), ('Chinese', 'Arabic', {'width': 10.246950765959598}), ('Chinese', 'Persian', {'width': 11.789826122551595}), ('Chinese', 'Catalan', {'width': 10.198039027185569}), ('Chinese', 'Indonesian', {'width': 10.535653752852738}), ('Chinese', 'Korean', {'width': 15.905973720586866}), ('Vietnamese', 'Arabic', {'width': 11.40175425099138}), ('Vietnamese', 'Portuguese', {'width': 15.684387141358123}), ('Vietnamese', 'Persian', {'width': 10.488088481701515}), ('Vietnamese', 'Indonesian', {'width': 26.720778431774775}), ('Ukrainian', 'Persian', {'width': 13.038404810405298}), ('Ukrainian', 'Serbian', {'width': 14.730919862656235}), ('Arabic', 'Portuguese', {'width': 16.186414056238647}), ('Arabic', 'Persian', {'width': 23.664319132398465}), ('Portuguese', 'Indonesian', {'width': 10.535653752852738})])"
      ]
     },
     "execution_count": 7,
     "metadata": {},
     "output_type": "execute_result"
    }
   ],
   "source": [
    "network.g_copy.edges(data=True)"
   ]
  },
  {
   "cell_type": "code",
   "execution_count": null,
   "id": "0cab204f",
   "metadata": {},
   "outputs": [],
   "source": []
  }
 ],
 "metadata": {
  "kernelspec": {
   "display_name": "Python 3 (ipykernel)",
   "language": "python",
   "name": "python3"
  },
  "language_info": {
   "codemirror_mode": {
    "name": "ipython",
    "version": 3
   },
   "file_extension": ".py",
   "mimetype": "text/x-python",
   "name": "python",
   "nbconvert_exporter": "python",
   "pygments_lexer": "ipython3",
   "version": "3.10.9"
  },
  "toc": {
   "base_numbering": 1,
   "nav_menu": {},
   "number_sections": true,
   "sideBar": true,
   "skip_h1_title": false,
   "title_cell": "Table of Contents",
   "title_sidebar": "Contents",
   "toc_cell": false,
   "toc_position": {},
   "toc_section_display": true,
   "toc_window_display": false
  }
 },
 "nbformat": 4,
 "nbformat_minor": 5
}
