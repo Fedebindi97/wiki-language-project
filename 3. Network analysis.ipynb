{
 "cells": [
  {
   "cell_type": "markdown",
   "id": "33957a63",
   "metadata": {},
   "source": [
    "# Import packages and load data"
   ]
  },
  {
   "cell_type": "code",
   "execution_count": 29,
   "id": "e093d0d0",
   "metadata": {},
   "outputs": [],
   "source": [
    "import pandas as pd\n",
    "import numpy as np\n",
    "import math\n",
    "\n",
    "from NetworkClass import NetworkClass"
   ]
  },
  {
   "cell_type": "markdown",
   "id": "be8a4139",
   "metadata": {},
   "source": [
    "# Load data and assign them to network class"
   ]
  },
  {
   "cell_type": "code",
   "execution_count": 30,
   "id": "73d71b17",
   "metadata": {},
   "outputs": [
    {
     "data": {
      "text/html": [
       "<div>\n",
       "<style scoped>\n",
       "    .dataframe tbody tr th:only-of-type {\n",
       "        vertical-align: middle;\n",
       "    }\n",
       "\n",
       "    .dataframe tbody tr th {\n",
       "        vertical-align: top;\n",
       "    }\n",
       "\n",
       "    .dataframe thead th {\n",
       "        text-align: right;\n",
       "    }\n",
       "</style>\n",
       "<table border=\"1\" class=\"dataframe\">\n",
       "  <thead>\n",
       "    <tr style=\"text-align: right;\">\n",
       "      <th></th>\n",
       "      <th>lang_1</th>\n",
       "      <th>lang_2</th>\n",
       "      <th>weight</th>\n",
       "    </tr>\n",
       "  </thead>\n",
       "  <tbody>\n",
       "    <tr>\n",
       "      <th>0</th>\n",
       "      <td>English</td>\n",
       "      <td>German</td>\n",
       "      <td>4032</td>\n",
       "    </tr>\n",
       "    <tr>\n",
       "      <th>1</th>\n",
       "      <td>English</td>\n",
       "      <td>French</td>\n",
       "      <td>4760</td>\n",
       "    </tr>\n",
       "    <tr>\n",
       "      <th>2</th>\n",
       "      <td>English</td>\n",
       "      <td>Dutch</td>\n",
       "      <td>2762</td>\n",
       "    </tr>\n",
       "    <tr>\n",
       "      <th>3</th>\n",
       "      <td>English</td>\n",
       "      <td>Russian</td>\n",
       "      <td>2116</td>\n",
       "    </tr>\n",
       "    <tr>\n",
       "      <th>4</th>\n",
       "      <td>English</td>\n",
       "      <td>Spanish</td>\n",
       "      <td>2964</td>\n",
       "    </tr>\n",
       "    <tr>\n",
       "      <th>...</th>\n",
       "      <td>...</td>\n",
       "      <td>...</td>\n",
       "      <td>...</td>\n",
       "    </tr>\n",
       "    <tr>\n",
       "      <th>162</th>\n",
       "      <td>Ukrainian</td>\n",
       "      <td>Arabic</td>\n",
       "      <td>112</td>\n",
       "    </tr>\n",
       "    <tr>\n",
       "      <th>164</th>\n",
       "      <td>Ukrainian</td>\n",
       "      <td>Persian</td>\n",
       "      <td>149</td>\n",
       "    </tr>\n",
       "    <tr>\n",
       "      <th>166</th>\n",
       "      <td>Ukrainian</td>\n",
       "      <td>Serbian</td>\n",
       "      <td>239</td>\n",
       "    </tr>\n",
       "    <tr>\n",
       "      <th>169</th>\n",
       "      <td>Arabic</td>\n",
       "      <td>Portuguese</td>\n",
       "      <td>242</td>\n",
       "    </tr>\n",
       "    <tr>\n",
       "      <th>170</th>\n",
       "      <td>Arabic</td>\n",
       "      <td>Persian</td>\n",
       "      <td>563</td>\n",
       "    </tr>\n",
       "  </tbody>\n",
       "</table>\n",
       "<p>125 rows × 3 columns</p>\n",
       "</div>"
      ],
      "text/plain": [
       "        lang_1      lang_2  weight\n",
       "0      English      German    4032\n",
       "1      English      French    4760\n",
       "2      English       Dutch    2762\n",
       "3      English     Russian    2116\n",
       "4      English     Spanish    2964\n",
       "..         ...         ...     ...\n",
       "162  Ukrainian      Arabic     112\n",
       "164  Ukrainian     Persian     149\n",
       "166  Ukrainian     Serbian     239\n",
       "169     Arabic  Portuguese     242\n",
       "170     Arabic     Persian     563\n",
       "\n",
       "[125 rows x 3 columns]"
      ]
     },
     "execution_count": 30,
     "metadata": {},
     "output_type": "execute_result"
    }
   ],
   "source": [
    "df = pd.read_csv('raw/Edges.csv', index_col=0)\n",
    "df = df[df.weight > 100]\n",
    "df"
   ]
  },
  {
   "cell_type": "code",
   "execution_count": 31,
   "id": "913db625",
   "metadata": {},
   "outputs": [],
   "source": [
    "network = NetworkClass(data = df,node_col='lang_1',neighbor_col='lang_2',edge_weight_col='weight')"
   ]
  },
  {
   "cell_type": "markdown",
   "id": "92eaf868",
   "metadata": {},
   "source": [
    "# Add node size"
   ]
  },
  {
   "cell_type": "code",
   "execution_count": 32,
   "id": "2c3934bc",
   "metadata": {},
   "outputs": [
    {
     "data": {
      "text/html": [
       "<div>\n",
       "<style scoped>\n",
       "    .dataframe tbody tr th:only-of-type {\n",
       "        vertical-align: middle;\n",
       "    }\n",
       "\n",
       "    .dataframe tbody tr th {\n",
       "        vertical-align: top;\n",
       "    }\n",
       "\n",
       "    .dataframe thead th {\n",
       "        text-align: right;\n",
       "    }\n",
       "</style>\n",
       "<table border=\"1\" class=\"dataframe\">\n",
       "  <thead>\n",
       "    <tr style=\"text-align: right;\">\n",
       "      <th></th>\n",
       "      <th>size</th>\n",
       "    </tr>\n",
       "    <tr>\n",
       "      <th>id</th>\n",
       "      <th></th>\n",
       "    </tr>\n",
       "  </thead>\n",
       "  <tbody>\n",
       "    <tr>\n",
       "      <th>English</th>\n",
       "      <td>322.957936</td>\n",
       "    </tr>\n",
       "    <tr>\n",
       "      <th>German</th>\n",
       "      <td>209.636292</td>\n",
       "    </tr>\n",
       "    <tr>\n",
       "      <th>French</th>\n",
       "      <td>198.900690</td>\n",
       "    </tr>\n",
       "    <tr>\n",
       "      <th>Dutch</th>\n",
       "      <td>182.241941</td>\n",
       "    </tr>\n",
       "    <tr>\n",
       "      <th>Russian</th>\n",
       "      <td>173.413658</td>\n",
       "    </tr>\n",
       "    <tr>\n",
       "      <th>Spanish</th>\n",
       "      <td>171.095642</td>\n",
       "    </tr>\n",
       "    <tr>\n",
       "      <th>Italian</th>\n",
       "      <td>168.460678</td>\n",
       "    </tr>\n",
       "    <tr>\n",
       "      <th>Egyptian Arabic</th>\n",
       "      <td>159.002358</td>\n",
       "    </tr>\n",
       "    <tr>\n",
       "      <th>Polish</th>\n",
       "      <td>156.731109</td>\n",
       "    </tr>\n",
       "    <tr>\n",
       "      <th>Japanese</th>\n",
       "      <td>146.756654</td>\n",
       "    </tr>\n",
       "    <tr>\n",
       "      <th>Chinese</th>\n",
       "      <td>145.985070</td>\n",
       "    </tr>\n",
       "    <tr>\n",
       "      <th>Vietnamese</th>\n",
       "      <td>141.681145</td>\n",
       "    </tr>\n",
       "    <tr>\n",
       "      <th>Ukrainian</th>\n",
       "      <td>140.877107</td>\n",
       "    </tr>\n",
       "    <tr>\n",
       "      <th>Arabic</th>\n",
       "      <td>137.475850</td>\n",
       "    </tr>\n",
       "    <tr>\n",
       "      <th>Portuguese</th>\n",
       "      <td>131.338066</td>\n",
       "    </tr>\n",
       "    <tr>\n",
       "      <th>Persian</th>\n",
       "      <td>122.894581</td>\n",
       "    </tr>\n",
       "    <tr>\n",
       "      <th>Catalan</th>\n",
       "      <td>106.810873</td>\n",
       "    </tr>\n",
       "    <tr>\n",
       "      <th>Serbian</th>\n",
       "      <td>102.469736</td>\n",
       "    </tr>\n",
       "    <tr>\n",
       "      <th>Indonesian</th>\n",
       "      <td>101.011447</td>\n",
       "    </tr>\n",
       "    <tr>\n",
       "      <th>Korean</th>\n",
       "      <td>99.889705</td>\n",
       "    </tr>\n",
       "  </tbody>\n",
       "</table>\n",
       "</div>"
      ],
      "text/plain": [
       "                       size\n",
       "id                         \n",
       "English          322.957936\n",
       "German           209.636292\n",
       "French           198.900690\n",
       "Dutch            182.241941\n",
       "Russian          173.413658\n",
       "Spanish          171.095642\n",
       "Italian          168.460678\n",
       "Egyptian Arabic  159.002358\n",
       "Polish           156.731109\n",
       "Japanese         146.756654\n",
       "Chinese          145.985070\n",
       "Vietnamese       141.681145\n",
       "Ukrainian        140.877107\n",
       "Arabic           137.475850\n",
       "Portuguese       131.338066\n",
       "Persian          122.894581\n",
       "Catalan          106.810873\n",
       "Serbian          102.469736\n",
       "Indonesian       101.011447\n",
       "Korean            99.889705"
      ]
     },
     "execution_count": 32,
     "metadata": {},
     "output_type": "execute_result"
    }
   ],
   "source": [
    "df_size = pd.read_csv('raw/Node sizes.csv',index_col=0).head(20).rename(columns={'Language':'id','Articles':'size'})[['id','size']]\n",
    "df_size = df_size.set_index('id')\n",
    "df_size['size'] = df_size['size'].apply(lambda x: np.sqrt(x)/8)\n",
    "df_size"
   ]
  },
  {
   "cell_type": "code",
   "execution_count": 33,
   "id": "a1dfbda3",
   "metadata": {
    "scrolled": true
   },
   "outputs": [],
   "source": [
    "network.add_node_attr(data=df_size,attr_name='size')"
   ]
  },
  {
   "cell_type": "markdown",
   "id": "e242bd12",
   "metadata": {},
   "source": [
    "# Add flags and show network"
   ]
  },
  {
   "cell_type": "code",
   "execution_count": 34,
   "id": "c9685b7a",
   "metadata": {},
   "outputs": [],
   "source": [
    "for node in network.nt.nodes:\n",
    "    id = node['id']\n",
    "    label = node['label']\n",
    "    node['shape'] = 'circularImage'\n",
    "    node['image'] = f\"/Users/federico.bindi/Desktop/GitHub/wiki-language-project/flags/{id}.png\""
   ]
  },
  {
   "cell_type": "code",
   "execution_count": 35,
   "id": "e83ea804",
   "metadata": {
    "scrolled": true
   },
   "outputs": [
    {
     "name": "stdout",
     "output_type": "stream",
     "text": [
      "out/network.html\n"
     ]
    }
   ],
   "source": [
    "network.nt.show('out/network.html',notebook=False)"
   ]
  },
  {
   "cell_type": "code",
   "execution_count": 36,
   "id": "e14a4fcb",
   "metadata": {},
   "outputs": [],
   "source": [
    "network.network_statistics('out/network statistics.xlsx')"
   ]
  },
  {
   "cell_type": "markdown",
   "id": "261962b2",
   "metadata": {},
   "source": [
    "# Long articles only"
   ]
  },
  {
   "cell_type": "code",
   "execution_count": 37,
   "id": "3b771b7b",
   "metadata": {},
   "outputs": [],
   "source": [
    "df2 = pd.read_csv('raw/Edges - long articles only.csv', index_col=0)\n",
    "df2 = df2[df2.weight > 100]"
   ]
  },
  {
   "cell_type": "code",
   "execution_count": 38,
   "id": "604fcfd6",
   "metadata": {},
   "outputs": [],
   "source": [
    "network2 = NetworkClass(data = df2,node_col='lang_1',neighbor_col='lang_2',edge_weight_col='weight')"
   ]
  },
  {
   "cell_type": "code",
   "execution_count": 39,
   "id": "905380ec",
   "metadata": {},
   "outputs": [],
   "source": [
    "network2.add_node_attr(data=df_size,attr_name='size')"
   ]
  },
  {
   "cell_type": "code",
   "execution_count": 40,
   "id": "c5c4094b",
   "metadata": {},
   "outputs": [],
   "source": [
    "for node in network2.nt.nodes:\n",
    "    id = node['id']\n",
    "    label = node['label']\n",
    "    node['shape'] = 'circularImage'\n",
    "    node['image'] = f\"/Users/federico.bindi/Desktop/GitHub/wiki-language-project/flags/{id}.png\""
   ]
  },
  {
   "cell_type": "code",
   "execution_count": 41,
   "id": "731f6564",
   "metadata": {},
   "outputs": [
    {
     "name": "stdout",
     "output_type": "stream",
     "text": [
      "out/network2.html\n"
     ]
    }
   ],
   "source": [
    "network2.nt.show('out/network2.html',notebook=False)"
   ]
  },
  {
   "cell_type": "code",
   "execution_count": 42,
   "id": "adca32e9",
   "metadata": {},
   "outputs": [],
   "source": [
    "network2.network_statistics('out/network2 statistics.xlsx')"
   ]
  }
 ],
 "metadata": {
  "kernelspec": {
   "display_name": "Python 3 (ipykernel)",
   "language": "python",
   "name": "python3"
  },
  "language_info": {
   "codemirror_mode": {
    "name": "ipython",
    "version": 3
   },
   "file_extension": ".py",
   "mimetype": "text/x-python",
   "name": "python",
   "nbconvert_exporter": "python",
   "pygments_lexer": "ipython3",
   "version": "3.10.9"
  },
  "toc": {
   "base_numbering": 1,
   "nav_menu": {},
   "number_sections": true,
   "sideBar": true,
   "skip_h1_title": false,
   "title_cell": "Table of Contents",
   "title_sidebar": "Contents",
   "toc_cell": false,
   "toc_position": {
    "height": "calc(100% - 180px)",
    "left": "10px",
    "top": "150px",
    "width": "237.6px"
   },
   "toc_section_display": true,
   "toc_window_display": true
  }
 },
 "nbformat": 4,
 "nbformat_minor": 5
}
