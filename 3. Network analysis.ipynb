{
 "cells": [
  {
   "cell_type": "markdown",
   "id": "33957a63",
   "metadata": {},
   "source": [
    "# Import packages and load data"
   ]
  },
  {
   "cell_type": "code",
   "execution_count": 1,
   "id": "e093d0d0",
   "metadata": {},
   "outputs": [
    {
     "name": "stdout",
     "output_type": "stream",
     "text": [
      "Note: to be able to use all crisp methods, you need to install some additional packages:  {'graph_tool', 'bayanpy', 'leidenalg', 'infomap'}\n",
      "Note: to be able to use all crisp methods, you need to install some additional packages:  {'pyclustering', 'ASLPAw'}\n",
      "Note: to be able to use all crisp methods, you need to install some additional packages:  {'leidenalg', 'infomap'}\n"
     ]
    }
   ],
   "source": [
    "import pandas as pd\n",
    "import numpy as np\n",
    "import math\n",
    "\n",
    "from NetworkClass import NetworkClass"
   ]
  },
  {
   "cell_type": "markdown",
   "id": "be8a4139",
   "metadata": {},
   "source": [
    "# Load data and assign them to network class"
   ]
  },
  {
   "cell_type": "code",
   "execution_count": 2,
   "id": "73d71b17",
   "metadata": {},
   "outputs": [
    {
     "data": {
      "text/html": [
       "<div>\n",
       "<style scoped>\n",
       "    .dataframe tbody tr th:only-of-type {\n",
       "        vertical-align: middle;\n",
       "    }\n",
       "\n",
       "    .dataframe tbody tr th {\n",
       "        vertical-align: top;\n",
       "    }\n",
       "\n",
       "    .dataframe thead th {\n",
       "        text-align: right;\n",
       "    }\n",
       "</style>\n",
       "<table border=\"1\" class=\"dataframe\">\n",
       "  <thead>\n",
       "    <tr style=\"text-align: right;\">\n",
       "      <th></th>\n",
       "      <th>lang_1</th>\n",
       "      <th>lang_2</th>\n",
       "      <th>weight</th>\n",
       "    </tr>\n",
       "  </thead>\n",
       "  <tbody>\n",
       "    <tr>\n",
       "      <th>0</th>\n",
       "      <td>English</td>\n",
       "      <td>German</td>\n",
       "      <td>3885</td>\n",
       "    </tr>\n",
       "    <tr>\n",
       "      <th>1</th>\n",
       "      <td>English</td>\n",
       "      <td>French</td>\n",
       "      <td>4702</td>\n",
       "    </tr>\n",
       "    <tr>\n",
       "      <th>2</th>\n",
       "      <td>English</td>\n",
       "      <td>Dutch</td>\n",
       "      <td>2686</td>\n",
       "    </tr>\n",
       "    <tr>\n",
       "      <th>3</th>\n",
       "      <td>English</td>\n",
       "      <td>Russian</td>\n",
       "      <td>2050</td>\n",
       "    </tr>\n",
       "    <tr>\n",
       "      <th>4</th>\n",
       "      <td>English</td>\n",
       "      <td>Spanish</td>\n",
       "      <td>2866</td>\n",
       "    </tr>\n",
       "    <tr>\n",
       "      <th>...</th>\n",
       "      <td>...</td>\n",
       "      <td>...</td>\n",
       "      <td>...</td>\n",
       "    </tr>\n",
       "    <tr>\n",
       "      <th>185</th>\n",
       "      <td>Catalan</td>\n",
       "      <td>Indonesian</td>\n",
       "      <td>10</td>\n",
       "    </tr>\n",
       "    <tr>\n",
       "      <th>186</th>\n",
       "      <td>Catalan</td>\n",
       "      <td>Korean</td>\n",
       "      <td>7</td>\n",
       "    </tr>\n",
       "    <tr>\n",
       "      <th>187</th>\n",
       "      <td>Serbian</td>\n",
       "      <td>Indonesian</td>\n",
       "      <td>4</td>\n",
       "    </tr>\n",
       "    <tr>\n",
       "      <th>188</th>\n",
       "      <td>Serbian</td>\n",
       "      <td>Korean</td>\n",
       "      <td>2</td>\n",
       "    </tr>\n",
       "    <tr>\n",
       "      <th>189</th>\n",
       "      <td>Indonesian</td>\n",
       "      <td>Korean</td>\n",
       "      <td>36</td>\n",
       "    </tr>\n",
       "  </tbody>\n",
       "</table>\n",
       "<p>190 rows × 3 columns</p>\n",
       "</div>"
      ],
      "text/plain": [
       "         lang_1      lang_2  weight\n",
       "0       English      German    3885\n",
       "1       English      French    4702\n",
       "2       English       Dutch    2686\n",
       "3       English     Russian    2050\n",
       "4       English     Spanish    2866\n",
       "..          ...         ...     ...\n",
       "185     Catalan  Indonesian      10\n",
       "186     Catalan      Korean       7\n",
       "187     Serbian  Indonesian       4\n",
       "188     Serbian      Korean       2\n",
       "189  Indonesian      Korean      36\n",
       "\n",
       "[190 rows x 3 columns]"
      ]
     },
     "execution_count": 2,
     "metadata": {},
     "output_type": "execute_result"
    }
   ],
   "source": [
    "df = pd.read_csv('raw/Edges.csv',index_col=0)\n",
    "df"
   ]
  },
  {
   "cell_type": "code",
   "execution_count": 3,
   "id": "913db625",
   "metadata": {},
   "outputs": [],
   "source": [
    "network = NetworkClass(data = df,node_col='lang_1',neighbor_col='lang_2',edge_weight_col='weight',drop_edges_viz=100)"
   ]
  },
  {
   "cell_type": "markdown",
   "id": "92eaf868",
   "metadata": {},
   "source": [
    "# Add node size"
   ]
  },
  {
   "cell_type": "code",
   "execution_count": 4,
   "id": "2c3934bc",
   "metadata": {},
   "outputs": [
    {
     "data": {
      "text/html": [
       "<div>\n",
       "<style scoped>\n",
       "    .dataframe tbody tr th:only-of-type {\n",
       "        vertical-align: middle;\n",
       "    }\n",
       "\n",
       "    .dataframe tbody tr th {\n",
       "        vertical-align: top;\n",
       "    }\n",
       "\n",
       "    .dataframe thead th {\n",
       "        text-align: right;\n",
       "    }\n",
       "</style>\n",
       "<table border=\"1\" class=\"dataframe\">\n",
       "  <thead>\n",
       "    <tr style=\"text-align: right;\">\n",
       "      <th></th>\n",
       "      <th>size</th>\n",
       "    </tr>\n",
       "    <tr>\n",
       "      <th>id</th>\n",
       "      <th></th>\n",
       "    </tr>\n",
       "  </thead>\n",
       "  <tbody>\n",
       "    <tr>\n",
       "      <th>English</th>\n",
       "      <td>322.877129</td>\n",
       "    </tr>\n",
       "    <tr>\n",
       "      <th>German</th>\n",
       "      <td>209.556600</td>\n",
       "    </tr>\n",
       "    <tr>\n",
       "      <th>French</th>\n",
       "      <td>198.835909</td>\n",
       "    </tr>\n",
       "    <tr>\n",
       "      <th>Dutch</th>\n",
       "      <td>182.216947</td>\n",
       "    </tr>\n",
       "    <tr>\n",
       "      <th>Russian</th>\n",
       "      <td>173.343139</td>\n",
       "    </tr>\n",
       "    <tr>\n",
       "      <th>Spanish</th>\n",
       "      <td>171.000046</td>\n",
       "    </tr>\n",
       "    <tr>\n",
       "      <th>Italian</th>\n",
       "      <td>168.417543</td>\n",
       "    </tr>\n",
       "    <tr>\n",
       "      <th>Egyptian Arabic</th>\n",
       "      <td>158.997396</td>\n",
       "    </tr>\n",
       "    <tr>\n",
       "      <th>Polish</th>\n",
       "      <td>156.696512</td>\n",
       "    </tr>\n",
       "    <tr>\n",
       "      <th>Japanese</th>\n",
       "      <td>146.716350</td>\n",
       "    </tr>\n",
       "    <tr>\n",
       "      <th>Chinese</th>\n",
       "      <td>145.893583</td>\n",
       "    </tr>\n",
       "    <tr>\n",
       "      <th>Vietnamese</th>\n",
       "      <td>141.663223</td>\n",
       "    </tr>\n",
       "    <tr>\n",
       "      <th>Ukrainian</th>\n",
       "      <td>140.809324</td>\n",
       "    </tr>\n",
       "    <tr>\n",
       "      <th>Arabic</th>\n",
       "      <td>137.430323</td>\n",
       "    </tr>\n",
       "    <tr>\n",
       "      <th>Portuguese</th>\n",
       "      <td>131.310224</td>\n",
       "    </tr>\n",
       "    <tr>\n",
       "      <th>Persian</th>\n",
       "      <td>122.850328</td>\n",
       "    </tr>\n",
       "    <tr>\n",
       "      <th>Catalan</th>\n",
       "      <td>106.784172</td>\n",
       "    </tr>\n",
       "    <tr>\n",
       "      <th>Serbian</th>\n",
       "      <td>102.450827</td>\n",
       "    </tr>\n",
       "    <tr>\n",
       "      <th>Indonesian</th>\n",
       "      <td>100.924090</td>\n",
       "    </tr>\n",
       "    <tr>\n",
       "      <th>Korean</th>\n",
       "      <td>99.845271</td>\n",
       "    </tr>\n",
       "  </tbody>\n",
       "</table>\n",
       "</div>"
      ],
      "text/plain": [
       "                       size\n",
       "id                         \n",
       "English          322.877129\n",
       "German           209.556600\n",
       "French           198.835909\n",
       "Dutch            182.216947\n",
       "Russian          173.343139\n",
       "Spanish          171.000046\n",
       "Italian          168.417543\n",
       "Egyptian Arabic  158.997396\n",
       "Polish           156.696512\n",
       "Japanese         146.716350\n",
       "Chinese          145.893583\n",
       "Vietnamese       141.663223\n",
       "Ukrainian        140.809324\n",
       "Arabic           137.430323\n",
       "Portuguese       131.310224\n",
       "Persian          122.850328\n",
       "Catalan          106.784172\n",
       "Serbian          102.450827\n",
       "Indonesian       100.924090\n",
       "Korean            99.845271"
      ]
     },
     "execution_count": 4,
     "metadata": {},
     "output_type": "execute_result"
    }
   ],
   "source": [
    "df_size = pd.read_csv('raw/Node sizes.csv',index_col=0).head(20).rename(columns={'Language':'id','Articles':'size'})[['id','size']]\n",
    "df_size = df_size.set_index('id')\n",
    "df_size['size'] = df_size['size'].apply(lambda x: np.sqrt(x)/8)\n",
    "df_size"
   ]
  },
  {
   "cell_type": "code",
   "execution_count": 5,
   "id": "a1dfbda3",
   "metadata": {
    "scrolled": true
   },
   "outputs": [],
   "source": [
    "network.add_node_attr(data=df_size,attr_name='size')"
   ]
  },
  {
   "cell_type": "markdown",
   "id": "e242bd12",
   "metadata": {},
   "source": [
    "# Add flags and show network"
   ]
  },
  {
   "cell_type": "code",
   "execution_count": 6,
   "id": "c9685b7a",
   "metadata": {},
   "outputs": [],
   "source": [
    "for node in network.nt.nodes:\n",
    "    id = node['id']\n",
    "    label = node['label']\n",
    "    node['shape'] = 'circularImage'\n",
    "    node['image'] = f\"/Users/federico.bindi/Desktop/GitHub/wiki-language-project/flags/{id}.png\""
   ]
  },
  {
   "cell_type": "code",
   "execution_count": 7,
   "id": "e83ea804",
   "metadata": {},
   "outputs": [
    {
     "name": "stdout",
     "output_type": "stream",
     "text": [
      "out/network.html\n"
     ]
    }
   ],
   "source": [
    "network.nt.show('out/network.html',notebook=False)"
   ]
  }
 ],
 "metadata": {
  "kernelspec": {
   "display_name": "Python 3 (ipykernel)",
   "language": "python",
   "name": "python3"
  },
  "language_info": {
   "codemirror_mode": {
    "name": "ipython",
    "version": 3
   },
   "file_extension": ".py",
   "mimetype": "text/x-python",
   "name": "python",
   "nbconvert_exporter": "python",
   "pygments_lexer": "ipython3",
   "version": "3.10.9"
  },
  "toc": {
   "base_numbering": 1,
   "nav_menu": {},
   "number_sections": true,
   "sideBar": true,
   "skip_h1_title": false,
   "title_cell": "Table of Contents",
   "title_sidebar": "Contents",
   "toc_cell": false,
   "toc_position": {
    "height": "calc(100% - 180px)",
    "left": "10px",
    "top": "150px",
    "width": "237.6px"
   },
   "toc_section_display": true,
   "toc_window_display": true
  }
 },
 "nbformat": 4,
 "nbformat_minor": 5
}
