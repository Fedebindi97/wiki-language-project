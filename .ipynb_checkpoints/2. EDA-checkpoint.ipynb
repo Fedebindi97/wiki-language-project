{
 "cells": [
  {
   "cell_type": "markdown",
   "id": "96d64edd",
   "metadata": {},
   "source": [
    "# Import packages and load data"
   ]
  },
  {
   "cell_type": "code",
   "execution_count": 3,
   "id": "31232170",
   "metadata": {
    "scrolled": true
   },
   "outputs": [
    {
     "name": "stdout",
     "output_type": "stream",
     "text": [
      "Name: pandas\r\n",
      "Version: 1.5.3\r\n",
      "Summary: Powerful data structures for data analysis, time series, and statistics\r\n",
      "Home-page: https://pandas.pydata.org\r\n",
      "Author: The Pandas Development Team\r\n",
      "Author-email: pandas-dev@python.org\r\n",
      "License: BSD-3-Clause\r\n",
      "Location: /Users/federico.bindi/anaconda3/lib/python3.10/site-packages\r\n",
      "Requires: numpy, python-dateutil, pytz\r\n",
      "Required-by: datashader, holoviews, hvplot, mizani, plotnine, seaborn, statsmodels, xarray\r\n"
     ]
    }
   ],
   "source": [
    "!pip show pandas"
   ]
  },
  {
   "cell_type": "code",
   "execution_count": 7,
   "id": "3ab8c7b4",
   "metadata": {},
   "outputs": [],
   "source": [
    "from plotnine import *\n",
    "import pandas as pd\n",
    "import numpy as np"
   ]
  },
  {
   "cell_type": "code",
   "execution_count": 14,
   "id": "921540fd",
   "metadata": {},
   "outputs": [],
   "source": [
    "df_wikis = pd.read_csv('Node sizes.csv').rename(columns={'Unnamed: 0':'Sorter'})"
   ]
  },
  {
   "cell_type": "code",
   "execution_count": 15,
   "id": "f2c89526",
   "metadata": {},
   "outputs": [
    {
     "data": {
      "text/html": [
       "<div>\n",
       "<style scoped>\n",
       "    .dataframe tbody tr th:only-of-type {\n",
       "        vertical-align: middle;\n",
       "    }\n",
       "\n",
       "    .dataframe tbody tr th {\n",
       "        vertical-align: top;\n",
       "    }\n",
       "\n",
       "    .dataframe thead th {\n",
       "        text-align: right;\n",
       "    }\n",
       "</style>\n",
       "<table border=\"1\" class=\"dataframe\">\n",
       "  <thead>\n",
       "    <tr style=\"text-align: right;\">\n",
       "      <th></th>\n",
       "      <th>Sorter</th>\n",
       "      <th>Language</th>\n",
       "      <th>Wiki</th>\n",
       "      <th>Articles</th>\n",
       "    </tr>\n",
       "  </thead>\n",
       "  <tbody>\n",
       "    <tr>\n",
       "      <th>0</th>\n",
       "      <td>0</td>\n",
       "      <td>English</td>\n",
       "      <td>en</td>\n",
       "      <td>6667623</td>\n",
       "    </tr>\n",
       "    <tr>\n",
       "      <th>1</th>\n",
       "      <td>1</td>\n",
       "      <td>Cebuano</td>\n",
       "      <td>ceb</td>\n",
       "      <td>6123291</td>\n",
       "    </tr>\n",
       "    <tr>\n",
       "      <th>2</th>\n",
       "      <td>2</td>\n",
       "      <td>German</td>\n",
       "      <td>de</td>\n",
       "      <td>2808133</td>\n",
       "    </tr>\n",
       "    <tr>\n",
       "      <th>3</th>\n",
       "      <td>3</td>\n",
       "      <td>Swedish</td>\n",
       "      <td>sv</td>\n",
       "      <td>2564956</td>\n",
       "    </tr>\n",
       "    <tr>\n",
       "      <th>4</th>\n",
       "      <td>4</td>\n",
       "      <td>French</td>\n",
       "      <td>fr</td>\n",
       "      <td>2528443</td>\n",
       "    </tr>\n",
       "    <tr>\n",
       "      <th>...</th>\n",
       "      <td>...</td>\n",
       "      <td>...</td>\n",
       "      <td>...</td>\n",
       "      <td>...</td>\n",
       "    </tr>\n",
       "    <tr>\n",
       "      <th>315</th>\n",
       "      <td>315</td>\n",
       "      <td>Dinka</td>\n",
       "      <td>din</td>\n",
       "      <td>309</td>\n",
       "    </tr>\n",
       "    <tr>\n",
       "      <th>316</th>\n",
       "      <td>316</td>\n",
       "      <td>Tigrinya</td>\n",
       "      <td>ti</td>\n",
       "      <td>265</td>\n",
       "    </tr>\n",
       "    <tr>\n",
       "      <th>317</th>\n",
       "      <td>317</td>\n",
       "      <td>Kalaallisut</td>\n",
       "      <td>kl</td>\n",
       "      <td>243</td>\n",
       "    </tr>\n",
       "    <tr>\n",
       "      <th>318</th>\n",
       "      <td>318</td>\n",
       "      <td>Dzongkha</td>\n",
       "      <td>dz</td>\n",
       "      <td>237</td>\n",
       "    </tr>\n",
       "    <tr>\n",
       "      <th>319</th>\n",
       "      <td>319</td>\n",
       "      <td>Cree</td>\n",
       "      <td>cr</td>\n",
       "      <td>161</td>\n",
       "    </tr>\n",
       "  </tbody>\n",
       "</table>\n",
       "<p>320 rows × 4 columns</p>\n",
       "</div>"
      ],
      "text/plain": [
       "     Sorter     Language Wiki  Articles\n",
       "0         0      English   en   6667623\n",
       "1         1      Cebuano  ceb   6123291\n",
       "2         2       German   de   2808133\n",
       "3         3      Swedish   sv   2564956\n",
       "4         4       French   fr   2528443\n",
       "..      ...          ...  ...       ...\n",
       "315     315        Dinka  din       309\n",
       "316     316     Tigrinya   ti       265\n",
       "317     317  Kalaallisut   kl       243\n",
       "318     318     Dzongkha   dz       237\n",
       "319     319         Cree   cr       161\n",
       "\n",
       "[320 rows x 4 columns]"
      ]
     },
     "execution_count": 15,
     "metadata": {},
     "output_type": "execute_result"
    }
   ],
   "source": [
    "df_wikis"
   ]
  },
  {
   "cell_type": "markdown",
   "id": "67733998",
   "metadata": {},
   "source": [
    "# Plot histogram of languages, active users"
   ]
  },
  {
   "cell_type": "code",
   "execution_count": 17,
   "id": "e213575a",
   "metadata": {},
   "outputs": [
    {
     "data": {
      "image/png": "[encoded data removed]",
      "text/plain": [
       "<Figure size 640x480 with 1 Axes>"
      ]
     },
     "metadata": {},
     "output_type": "display_data"
    },
    {
     "name": "stdout",
     "output_type": "stream",
     "text": [
      "\n"
     ]
    }
   ],
   "source": [
    "plot = (\n",
    "    ggplot(df_wikis, aes(x='Sorter', y='Articles'))\n",
    "    + geom_col()\n",
    "    + labs(x='Wikis', y='# of articles')\n",
    "    + theme(axis_text_x=element_text(rotation=45, hjust=1))\n",
    ")\n",
    "print(plot)"
   ]
  },
  {
   "cell_type": "markdown",
   "id": "bef5e733",
   "metadata": {},
   "source": [
    "# Plot network statistics (couples of languages)"
   ]
  },
  {
   "cell_type": "code",
   "execution_count": null,
   "id": "53b49750",
   "metadata": {},
   "outputs": [],
   "source": []
  }
 ],
 "metadata": {
  "kernelspec": {
   "display_name": "Python 3 (ipykernel)",
   "language": "python",
   "name": "python3"
  },
  "language_info": {
   "codemirror_mode": {
    "name": "ipython",
    "version": 3
   },
   "file_extension": ".py",
   "mimetype": "text/x-python",
   "name": "python",
   "nbconvert_exporter": "python",
   "pygments_lexer": "ipython3",
   "version": "3.10.9"
  },
  "toc": {
   "base_numbering": 1,
   "nav_menu": {},
   "number_sections": true,
   "sideBar": true,
   "skip_h1_title": false,
   "title_cell": "Table of Contents",
   "title_sidebar": "Contents",
   "toc_cell": false,
   "toc_position": {},
   "toc_section_display": true,
   "toc_window_display": false
  }
 },
 "nbformat": 4,
 "nbformat_minor": 5
}
