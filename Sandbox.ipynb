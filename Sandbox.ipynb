{
 "cells": [
  {
   "cell_type": "code",
   "execution_count": 14,
   "id": "f94a9750",
   "metadata": {
    "scrolled": false
   },
   "outputs": [
    {
     "data": {
      "text/plain": [
       "60051"
      ]
     },
     "execution_count": 14,
     "metadata": {},
     "output_type": "execute_result"
    }
   ],
   "source": [
    "import pywikibot\n",
    "site = pywikibot.Site('it', \"wikipedia\")\n",
    "page = pywikibot.Page(site, 'Stefano Pioli')\n",
    "#page.revision_count()\n",
    "len(page.text)"
   ]
  },
  {
   "cell_type": "code",
   "execution_count": 25,
   "id": "4ddb0669",
   "metadata": {},
   "outputs": [
    {
     "name": "stdout",
     "output_type": "stream",
     "text": [
      "Category:1965 births\n",
      "Category:A.C. ChievoVerona managers\n",
      "Category:ACF Fiorentina managers\n",
      "Category:ACF Fiorentina players\n",
      "Category:AC Milan managers\n",
      "Category:All BLP articles lacking sources\n",
      "Category:All articles with unsourced statements\n",
      "Category:Articles with short description\n",
      "Category:Articles with unsourced statements from June 2017\n",
      "Category:BLP articles lacking sources from May 2017\n",
      "Category:Bologna FC 1909 managers\n",
      "Category:Bologna FC 1909 non-playing staff\n",
      "Category:CS1 Italian-language sources (it)\n",
      "Category:Calcio Padova players\n",
      "Category:Commons category link from Wikidata\n",
      "Category:Footballers from Emilia-Romagna\n",
      "Category:Footballers from Parma\n",
      "Category:Hellas Verona FC players\n",
      "Category:Inter Milan managers\n",
      "Category:Italian football managers\n",
      "Category:Italian footballers\n",
      "Category:Italy men's under-21 international footballers\n",
      "Category:Juventus FC players\n",
      "Category:Living people\n",
      "Category:Men's association football defenders\n",
      "Category:Modena F.C. 2018 managers\n",
      "Category:Palermo F.C. managers\n",
      "Category:Parma Calcio 1913 managers\n",
      "Category:Parma Calcio 1913 players\n",
      "Category:Piacenza Calcio 1919 managers\n",
      "Category:SS Lazio managers\n",
      "Category:Serie A managers\n",
      "Category:Serie A players\n",
      "Category:Serie B managers\n",
      "Category:Serie B players\n",
      "Category:Serie C players\n",
      "Category:Short description is different from Wikidata\n",
      "Category:U.S. Fiorenzuola 1922 S.S. players\n",
      "Category:U.S. Grosseto 1912 managers\n",
      "Category:U.S. Pistoiese 1921 players\n",
      "Category:UEFA Champions League winning players\n",
      "Category:US Salernitana 1919 managers\n",
      "Category:US Sassuolo Calcio managers\n",
      "Category:Use dmy dates from September 2020\n"
     ]
    }
   ],
   "source": [
    "site = pywikibot.Site('en', \"wikipedia\")\n",
    "page = pywikibot.Page(site, 'Stefano Pioli')\n",
    "for category in page.categories():\n",
    "    print(category.title())"
   ]
  },
  {
   "cell_type": "code",
   "execution_count": null,
   "id": "f3cbdfd5",
   "metadata": {},
   "outputs": [],
   "source": []
  }
 ],
 "metadata": {
  "kernelspec": {
   "display_name": "Python 3 (ipykernel)",
   "language": "python",
   "name": "python3"
  },
  "language_info": {
   "codemirror_mode": {
    "name": "ipython",
    "version": 3
   },
   "file_extension": ".py",
   "mimetype": "text/x-python",
   "name": "python",
   "nbconvert_exporter": "python",
   "pygments_lexer": "ipython3",
   "version": "3.10.9"
  },
  "toc": {
   "base_numbering": 1,
   "nav_menu": {},
   "number_sections": true,
   "sideBar": true,
   "skip_h1_title": false,
   "title_cell": "Table of Contents",
   "title_sidebar": "Contents",
   "toc_cell": false,
   "toc_position": {},
   "toc_section_display": true,
   "toc_window_display": false
  }
 },
 "nbformat": 4,
 "nbformat_minor": 5
}
