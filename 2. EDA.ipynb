{
 "cells": [
  {
   "cell_type": "markdown",
   "id": "96d64edd",
   "metadata": {},
   "source": [
    "# Import packages, define functions, load, data"
   ]
  },
  {
   "cell_type": "code",
   "execution_count": 28,
   "id": "3ab8c7b4",
   "metadata": {},
   "outputs": [],
   "source": [
    "from plotnine import *\n",
    "from mizani.formatters import comma_format\n",
    "import pandas as pd\n",
    "import numpy as np\n",
    "import matplotlib.pyplot as plt"
   ]
  },
  {
   "cell_type": "code",
   "execution_count": 9,
   "id": "492c5923",
   "metadata": {},
   "outputs": [],
   "source": [
    "def sorting(df,col,sorter='x'):\n",
    "    df.sort_values(col, ascending=False, inplace=True)\n",
    "    df[sorter] = df.reset_index().index + 1"
   ]
  },
  {
   "cell_type": "code",
   "execution_count": 10,
   "id": "921540fd",
   "metadata": {},
   "outputs": [
    {
     "data": {
      "text/html": [
       "<div>\n",
       "<style scoped>\n",
       "    .dataframe tbody tr th:only-of-type {\n",
       "        vertical-align: middle;\n",
       "    }\n",
       "\n",
       "    .dataframe tbody tr th {\n",
       "        vertical-align: top;\n",
       "    }\n",
       "\n",
       "    .dataframe thead th {\n",
       "        text-align: right;\n",
       "    }\n",
       "</style>\n",
       "<table border=\"1\" class=\"dataframe\">\n",
       "  <thead>\n",
       "    <tr style=\"text-align: right;\">\n",
       "      <th></th>\n",
       "      <th>x</th>\n",
       "      <th>Language</th>\n",
       "      <th>Language (local)</th>\n",
       "      <th>Wiki</th>\n",
       "      <th>Articles</th>\n",
       "      <th>All pages</th>\n",
       "      <th>Edits</th>\n",
       "      <th>Admins</th>\n",
       "      <th>Users</th>\n",
       "      <th>Active users</th>\n",
       "      <th>Files</th>\n",
       "      <th>Depth</th>\n",
       "    </tr>\n",
       "  </thead>\n",
       "  <tbody>\n",
       "    <tr>\n",
       "      <th>0</th>\n",
       "      <td>0</td>\n",
       "      <td>English</td>\n",
       "      <td>English</td>\n",
       "      <td>en</td>\n",
       "      <td>6671977</td>\n",
       "      <td>58390201</td>\n",
       "      <td>1156307364</td>\n",
       "      <td>898</td>\n",
       "      <td>45730862</td>\n",
       "      <td>117087</td>\n",
       "      <td>905115</td>\n",
       "      <td>1189</td>\n",
       "    </tr>\n",
       "    <tr>\n",
       "      <th>1</th>\n",
       "      <td>1</td>\n",
       "      <td>German</td>\n",
       "      <td>Deutsch</td>\n",
       "      <td>de</td>\n",
       "      <td>2810494</td>\n",
       "      <td>7755162</td>\n",
       "      <td>233223523</td>\n",
       "      <td>180</td>\n",
       "      <td>4172723</td>\n",
       "      <td>17140</td>\n",
       "      <td>127766</td>\n",
       "      <td>93</td>\n",
       "    </tr>\n",
       "    <tr>\n",
       "      <th>2</th>\n",
       "      <td>2</td>\n",
       "      <td>French</td>\n",
       "      <td>français</td>\n",
       "      <td>fr</td>\n",
       "      <td>2530286</td>\n",
       "      <td>12605492</td>\n",
       "      <td>204855286</td>\n",
       "      <td>152</td>\n",
       "      <td>4684236</td>\n",
       "      <td>17667</td>\n",
       "      <td>71219</td>\n",
       "      <td>257</td>\n",
       "    </tr>\n",
       "    <tr>\n",
       "      <th>3</th>\n",
       "      <td>3</td>\n",
       "      <td>Dutch</td>\n",
       "      <td>Nederlands</td>\n",
       "      <td>nl</td>\n",
       "      <td>2124993</td>\n",
       "      <td>4540891</td>\n",
       "      <td>64365222</td>\n",
       "      <td>34</td>\n",
       "      <td>1282663</td>\n",
       "      <td>3859</td>\n",
       "      <td>20</td>\n",
       "      <td>18</td>\n",
       "    </tr>\n",
       "    <tr>\n",
       "      <th>4</th>\n",
       "      <td>4</td>\n",
       "      <td>Russian</td>\n",
       "      <td>русский</td>\n",
       "      <td>ru</td>\n",
       "      <td>1923062</td>\n",
       "      <td>7717296</td>\n",
       "      <td>130862850</td>\n",
       "      <td>72</td>\n",
       "      <td>3406128</td>\n",
       "      <td>10449</td>\n",
       "      <td>243980</td>\n",
       "      <td>153</td>\n",
       "    </tr>\n",
       "    <tr>\n",
       "      <th>...</th>\n",
       "      <td>...</td>\n",
       "      <td>...</td>\n",
       "      <td>...</td>\n",
       "      <td>...</td>\n",
       "      <td>...</td>\n",
       "      <td>...</td>\n",
       "      <td>...</td>\n",
       "      <td>...</td>\n",
       "      <td>...</td>\n",
       "      <td>...</td>\n",
       "      <td>...</td>\n",
       "      <td>...</td>\n",
       "    </tr>\n",
       "    <tr>\n",
       "      <th>312</th>\n",
       "      <td>312</td>\n",
       "      <td>Sango</td>\n",
       "      <td>Sängö</td>\n",
       "      <td>sg</td>\n",
       "      <td>316</td>\n",
       "      <td>1991</td>\n",
       "      <td>20717</td>\n",
       "      <td>2</td>\n",
       "      <td>6357</td>\n",
       "      <td>10</td>\n",
       "      <td>0</td>\n",
       "      <td>292</td>\n",
       "    </tr>\n",
       "    <tr>\n",
       "      <th>313</th>\n",
       "      <td>313</td>\n",
       "      <td>Tigrinya</td>\n",
       "      <td>ትግርኛ</td>\n",
       "      <td>ti</td>\n",
       "      <td>252</td>\n",
       "      <td>2801</td>\n",
       "      <td>24288</td>\n",
       "      <td>2</td>\n",
       "      <td>9097</td>\n",
       "      <td>16</td>\n",
       "      <td>0</td>\n",
       "      <td>887</td>\n",
       "    </tr>\n",
       "    <tr>\n",
       "      <th>314</th>\n",
       "      <td>314</td>\n",
       "      <td>Kalaallisut</td>\n",
       "      <td>kalaallisut</td>\n",
       "      <td>kl</td>\n",
       "      <td>243</td>\n",
       "      <td>2303</td>\n",
       "      <td>74820</td>\n",
       "      <td>3</td>\n",
       "      <td>12956</td>\n",
       "      <td>9</td>\n",
       "      <td>0</td>\n",
       "      <td>2334</td>\n",
       "    </tr>\n",
       "    <tr>\n",
       "      <th>315</th>\n",
       "      <td>315</td>\n",
       "      <td>Dzongkha</td>\n",
       "      <td>ཇོང་ཁ</td>\n",
       "      <td>dz</td>\n",
       "      <td>237</td>\n",
       "      <td>2624</td>\n",
       "      <td>30200</td>\n",
       "      <td>1</td>\n",
       "      <td>9959</td>\n",
       "      <td>9</td>\n",
       "      <td>0</td>\n",
       "      <td>1167</td>\n",
       "    </tr>\n",
       "    <tr>\n",
       "      <th>316</th>\n",
       "      <td>316</td>\n",
       "      <td>Cree</td>\n",
       "      <td>Nēhiyawēwin / ᓀᐦᐃᔭᐍᐏᐣ</td>\n",
       "      <td>cr</td>\n",
       "      <td>163</td>\n",
       "      <td>2196</td>\n",
       "      <td>38383</td>\n",
       "      <td>2</td>\n",
       "      <td>18118</td>\n",
       "      <td>20</td>\n",
       "      <td>0</td>\n",
       "      <td>2718</td>\n",
       "    </tr>\n",
       "  </tbody>\n",
       "</table>\n",
       "<p>317 rows × 12 columns</p>\n",
       "</div>"
      ],
      "text/plain": [
       "       x     Language       Language (local) Wiki  Articles  All pages  \\\n",
       "0      0      English                English   en   6671977   58390201   \n",
       "1      1       German                Deutsch   de   2810494    7755162   \n",
       "2      2       French               français   fr   2530286   12605492   \n",
       "3      3        Dutch             Nederlands   nl   2124993    4540891   \n",
       "4      4      Russian                русский   ru   1923062    7717296   \n",
       "..   ...          ...                    ...  ...       ...        ...   \n",
       "312  312        Sango                  Sängö   sg       316       1991   \n",
       "313  313     Tigrinya                   ትግርኛ   ti       252       2801   \n",
       "314  314  Kalaallisut            kalaallisut   kl       243       2303   \n",
       "315  315     Dzongkha                  ཇོང་ཁ   dz       237       2624   \n",
       "316  316         Cree  Nēhiyawēwin / ᓀᐦᐃᔭᐍᐏᐣ   cr       163       2196   \n",
       "\n",
       "          Edits  Admins     Users  Active users   Files  Depth  \n",
       "0    1156307364     898  45730862        117087  905115   1189  \n",
       "1     233223523     180   4172723         17140  127766     93  \n",
       "2     204855286     152   4684236         17667   71219    257  \n",
       "3      64365222      34   1282663          3859      20     18  \n",
       "4     130862850      72   3406128         10449  243980    153  \n",
       "..          ...     ...       ...           ...     ...    ...  \n",
       "312       20717       2      6357            10       0    292  \n",
       "313       24288       2      9097            16       0    887  \n",
       "314       74820       3     12956             9       0   2334  \n",
       "315       30200       1      9959             9       0   1167  \n",
       "316       38383       2     18118            20       0   2718  \n",
       "\n",
       "[317 rows x 12 columns]"
      ]
     },
     "execution_count": 10,
     "metadata": {},
     "output_type": "execute_result"
    }
   ],
   "source": [
    "df_wikis = pd.read_csv('raw/Node sizes.csv',index_col=0)\n",
    "df_wikis"
   ]
  },
  {
   "cell_type": "code",
   "execution_count": 16,
   "id": "4453c790",
   "metadata": {},
   "outputs": [
    {
     "data": {
      "text/html": [
       "<div>\n",
       "<style scoped>\n",
       "    .dataframe tbody tr th:only-of-type {\n",
       "        vertical-align: middle;\n",
       "    }\n",
       "\n",
       "    .dataframe tbody tr th {\n",
       "        vertical-align: top;\n",
       "    }\n",
       "\n",
       "    .dataframe thead th {\n",
       "        text-align: right;\n",
       "    }\n",
       "</style>\n",
       "<table border=\"1\" class=\"dataframe\">\n",
       "  <thead>\n",
       "    <tr style=\"text-align: right;\">\n",
       "      <th></th>\n",
       "      <th>lang_1</th>\n",
       "      <th>lang_2</th>\n",
       "      <th>weight</th>\n",
       "    </tr>\n",
       "  </thead>\n",
       "  <tbody>\n",
       "    <tr>\n",
       "      <th>0</th>\n",
       "      <td>English</td>\n",
       "      <td>German</td>\n",
       "      <td>3885</td>\n",
       "    </tr>\n",
       "    <tr>\n",
       "      <th>1</th>\n",
       "      <td>English</td>\n",
       "      <td>French</td>\n",
       "      <td>4702</td>\n",
       "    </tr>\n",
       "    <tr>\n",
       "      <th>2</th>\n",
       "      <td>English</td>\n",
       "      <td>Dutch</td>\n",
       "      <td>2686</td>\n",
       "    </tr>\n",
       "    <tr>\n",
       "      <th>3</th>\n",
       "      <td>English</td>\n",
       "      <td>Russian</td>\n",
       "      <td>2050</td>\n",
       "    </tr>\n",
       "    <tr>\n",
       "      <th>4</th>\n",
       "      <td>English</td>\n",
       "      <td>Spanish</td>\n",
       "      <td>2866</td>\n",
       "    </tr>\n",
       "    <tr>\n",
       "      <th>...</th>\n",
       "      <td>...</td>\n",
       "      <td>...</td>\n",
       "      <td>...</td>\n",
       "    </tr>\n",
       "    <tr>\n",
       "      <th>185</th>\n",
       "      <td>Catalan</td>\n",
       "      <td>Indonesian</td>\n",
       "      <td>10</td>\n",
       "    </tr>\n",
       "    <tr>\n",
       "      <th>186</th>\n",
       "      <td>Catalan</td>\n",
       "      <td>Korean</td>\n",
       "      <td>7</td>\n",
       "    </tr>\n",
       "    <tr>\n",
       "      <th>187</th>\n",
       "      <td>Serbian</td>\n",
       "      <td>Indonesian</td>\n",
       "      <td>4</td>\n",
       "    </tr>\n",
       "    <tr>\n",
       "      <th>188</th>\n",
       "      <td>Serbian</td>\n",
       "      <td>Korean</td>\n",
       "      <td>2</td>\n",
       "    </tr>\n",
       "    <tr>\n",
       "      <th>189</th>\n",
       "      <td>Indonesian</td>\n",
       "      <td>Korean</td>\n",
       "      <td>36</td>\n",
       "    </tr>\n",
       "  </tbody>\n",
       "</table>\n",
       "<p>190 rows × 3 columns</p>\n",
       "</div>"
      ],
      "text/plain": [
       "         lang_1      lang_2  weight\n",
       "0       English      German    3885\n",
       "1       English      French    4702\n",
       "2       English       Dutch    2686\n",
       "3       English     Russian    2050\n",
       "4       English     Spanish    2866\n",
       "..          ...         ...     ...\n",
       "185     Catalan  Indonesian      10\n",
       "186     Catalan      Korean       7\n",
       "187     Serbian  Indonesian       4\n",
       "188     Serbian      Korean       2\n",
       "189  Indonesian      Korean      36\n",
       "\n",
       "[190 rows x 3 columns]"
      ]
     },
     "execution_count": 16,
     "metadata": {},
     "output_type": "execute_result"
    }
   ],
   "source": [
    "df_connections = pd.read_csv('raw/Edges.csv',index_col=0)\n",
    "df_connections"
   ]
  },
  {
   "cell_type": "markdown",
   "id": "67733998",
   "metadata": {},
   "source": [
    "# Plot histogram of languages, active users"
   ]
  },
  {
   "cell_type": "code",
   "execution_count": null,
   "id": "f14c1851",
   "metadata": {},
   "outputs": [],
   "source": [
    "sorting(df_wikis,'Articles')"
   ]
  },
  {
   "cell_type": "code",
   "execution_count": 12,
   "id": "60c26735",
   "metadata": {},
   "outputs": [
    {
     "data": {
      "image/png": "[encoded data removed]",
      "text/plain": [
       "<Figure size 640x480 with 1 Axes>"
      ]
     },
     "metadata": {},
     "output_type": "display_data"
    },
    {
     "name": "stdout",
     "output_type": "stream",
     "text": [
      "\n"
     ]
    },
    {
     "name": "stderr",
     "output_type": "stream",
     "text": [
      "/Users/federico.bindi/anaconda3/envs/baseplus/lib/python3.10/site-packages/plotnine/ggplot.py:718: PlotnineWarning: Saving 6.4 x 4.8 in image.\n",
      "/Users/federico.bindi/anaconda3/envs/baseplus/lib/python3.10/site-packages/plotnine/ggplot.py:719: PlotnineWarning: Filename: out/Distribution of Wikis by nr of articles.png\n"
     ]
    }
   ],
   "source": [
    "plot = (\n",
    "    ggplot(df_wikis, aes(x='x', y='Articles'))\n",
    "    + geom_col(fill='blue')\n",
    "    + labs(x='Wikis', y='# of articles')\n",
    "    + theme(axis_text_x=element_text(rotation=45, hjust=1))\n",
    "    + scale_y_continuous(labels=comma_format())\n",
    ")\n",
    "print(plot)\n",
    "ggsave(plot, filename='out/Distribution of Wikis by nr of articles.png', dpi=300)"
   ]
  },
  {
   "cell_type": "code",
   "execution_count": 13,
   "id": "cfabb941",
   "metadata": {},
   "outputs": [],
   "source": [
    "sorting(df_wikis,'Active users')"
   ]
  },
  {
   "cell_type": "code",
   "execution_count": 14,
   "id": "e213575a",
   "metadata": {
    "scrolled": false
   },
   "outputs": [
    {
     "data": {
      "image/png": "[encoded data removed]",
      "text/plain": [
       "<Figure size 640x480 with 1 Axes>"
      ]
     },
     "metadata": {},
     "output_type": "display_data"
    },
    {
     "name": "stdout",
     "output_type": "stream",
     "text": [
      "\n"
     ]
    },
    {
     "name": "stderr",
     "output_type": "stream",
     "text": [
      "/Users/federico.bindi/anaconda3/envs/baseplus/lib/python3.10/site-packages/plotnine/ggplot.py:718: PlotnineWarning: Saving 6.4 x 4.8 in image.\n",
      "/Users/federico.bindi/anaconda3/envs/baseplus/lib/python3.10/site-packages/plotnine/ggplot.py:719: PlotnineWarning: Filename: out/Distribution of Wikis by active users.png\n"
     ]
    }
   ],
   "source": [
    "plot = (\n",
    "    ggplot(df_wikis, aes(x='x', y='Active users'))\n",
    "    + geom_col(fill='red')\n",
    "    + labs(x='Wikis', y='# of active users')\n",
    "    + theme(axis_text_x=element_text(rotation=45, hjust=1))\n",
    "    + scale_y_continuous(labels=comma_format())\n",
    ")\n",
    "print(plot)\n",
    "ggsave(plot, filename='out/Distribution of Wikis by active users.png', dpi=300)"
   ]
  },
  {
   "cell_type": "markdown",
   "id": "bef5e733",
   "metadata": {},
   "source": [
    "# Plot network statistics (couples of languages)"
   ]
  },
  {
   "cell_type": "code",
   "execution_count": 29,
   "id": "95f93169",
   "metadata": {},
   "outputs": [
    {
     "data": {
      "image/png": "[encoded data removed]",
      "text/plain": [
       "<Figure size 640x480 with 1 Axes>"
      ]
     },
     "metadata": {},
     "output_type": "display_data"
    }
   ],
   "source": [
    "df_connections.weight.plot(kind='hist')\n",
    "plt.show()\n",
    "plt."
   ]
  },
  {
   "cell_type": "code",
   "execution_count": 31,
   "id": "2ef89f8e",
   "metadata": {},
   "outputs": [],
   "source": [
    "df_connections['weight_group'] = pd.cut(df_connections['weight'], bins=[0,1000,2000,3000,4000,5000])"
   ]
  },
  {
   "cell_type": "code",
   "execution_count": 33,
   "id": "53b49750",
   "metadata": {},
   "outputs": [
    {
     "ename": "NameError",
     "evalue": "name 'months' is not defined",
     "output_type": "error",
     "traceback": [
      "\u001b[0;31m---------------------------------------------------------------------------\u001b[0m",
      "\u001b[0;31mNameError\u001b[0m                                 Traceback (most recent call last)",
      "Cell \u001b[0;32mIn[33], line 6\u001b[0m\n\u001b[1;32m      1\u001b[0m plot \u001b[38;5;241m=\u001b[39m (\n\u001b[1;32m      2\u001b[0m     ggplot(df_connections, aes(\u001b[38;5;124m'\u001b[39m\u001b[38;5;124mlang_1\u001b[39m\u001b[38;5;124m'\u001b[39m, \u001b[38;5;124m'\u001b[39m\u001b[38;5;124mlang_2\u001b[39m\u001b[38;5;124m'\u001b[39m, fill\u001b[38;5;241m=\u001b[39m\u001b[38;5;124m'\u001b[39m\u001b[38;5;124mweight\u001b[39m\u001b[38;5;124m'\u001b[39m))\n\u001b[1;32m      3\u001b[0m  \u001b[38;5;241m+\u001b[39m geom_tile(aes(width\u001b[38;5;241m=\u001b[39m\u001b[38;5;241m.95\u001b[39m, height\u001b[38;5;241m=\u001b[39m\u001b[38;5;241m.95\u001b[39m))\n\u001b[1;32m      4\u001b[0m  \u001b[38;5;241m+\u001b[39m geom_text(aes(label\u001b[38;5;241m=\u001b[39m\u001b[38;5;124m'\u001b[39m\u001b[38;5;124mweight\u001b[39m\u001b[38;5;124m'\u001b[39m, color\u001b[38;5;241m=\u001b[39m\u001b[38;5;124m'\u001b[39m\u001b[38;5;124mweight_group\u001b[39m\u001b[38;5;124m'\u001b[39m), size\u001b[38;5;241m=\u001b[39m\u001b[38;5;241m9\u001b[39m, show_legend\u001b[38;5;241m=\u001b[39m\u001b[38;5;28;01mFalse\u001b[39;00m)\n\u001b[1;32m      5\u001b[0m  \u001b[38;5;241m+\u001b[39m scale_color_manual([\u001b[38;5;124m'\u001b[39m\u001b[38;5;124mwhite\u001b[39m\u001b[38;5;124m'\u001b[39m, \u001b[38;5;124m'\u001b[39m\u001b[38;5;124mblack\u001b[39m\u001b[38;5;124m'\u001b[39m]) \u001b[38;5;66;03m# new\u001b[39;00m\n\u001b[0;32m----> 6\u001b[0m  \u001b[38;5;241m+\u001b[39m scale_y_discrete(limits\u001b[38;5;241m=\u001b[39m\u001b[43mmonths\u001b[49m[::\u001b[38;5;241m-\u001b[39m\u001b[38;5;241m1\u001b[39m])          \u001b[38;5;66;03m# new\u001b[39;00m\n\u001b[1;32m      7\u001b[0m  \u001b[38;5;241m+\u001b[39m theme(                                         \u001b[38;5;66;03m# new\u001b[39;00m\n\u001b[1;32m      8\u001b[0m      axis_ticks\u001b[38;5;241m=\u001b[39melement_blank(),\n\u001b[1;32m      9\u001b[0m      panel_background\u001b[38;5;241m=\u001b[39melement_rect(fill\u001b[38;5;241m=\u001b[39m\u001b[38;5;124m'\u001b[39m\u001b[38;5;124mwhite\u001b[39m\u001b[38;5;124m'\u001b[39m)\n\u001b[1;32m     10\u001b[0m  )\n\u001b[1;32m     11\u001b[0m )\n\u001b[1;32m     12\u001b[0m \u001b[38;5;28mprint\u001b[39m(plot)\n",
      "\u001b[0;31mNameError\u001b[0m: name 'months' is not defined"
     ]
    }
   ],
   "source": [
    "plot = (\n",
    "    ggplot(df_connections, aes('lang_1', 'lang_2', fill='weight'))\n",
    " + geom_tile(aes(width=.95, height=.95))\n",
    " + geom_text(aes(label='weight', color='weight_group'), size=9, show_legend=False)\n",
    " + scale_color_manual(['white', 'black']) # new\n",
    " + scale_y_discrete(limits=months[::-1])          # new\n",
    " + theme(                                         # new\n",
    "     axis_ticks=element_blank(),\n",
    "     panel_background=element_rect(fill='white')\n",
    " )\n",
    ")\n",
    "print(plot)"
   ]
  },
  {
   "cell_type": "code",
   "execution_count": null,
   "id": "d00ee900",
   "metadata": {},
   "outputs": [],
   "source": []
  }
 ],
 "metadata": {
  "kernelspec": {
   "display_name": "Python 3 (ipykernel)",
   "language": "python",
   "name": "python3"
  },
  "language_info": {
   "codemirror_mode": {
    "name": "ipython",
    "version": 3
   },
   "file_extension": ".py",
   "mimetype": "text/x-python",
   "name": "python",
   "nbconvert_exporter": "python",
   "pygments_lexer": "ipython3",
   "version": "3.10.9"
  },
  "toc": {
   "base_numbering": 1,
   "nav_menu": {},
   "number_sections": true,
   "sideBar": true,
   "skip_h1_title": false,
   "title_cell": "Table of Contents",
   "title_sidebar": "Contents",
   "toc_cell": false,
   "toc_position": {
    "height": "calc(100% - 180px)",
    "left": "10px",
    "top": "150px",
    "width": "205.6px"
   },
   "toc_section_display": true,
   "toc_window_display": true
  }
 },
 "nbformat": 4,
 "nbformat_minor": 5
}
