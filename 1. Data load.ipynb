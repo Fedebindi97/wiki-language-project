{
 "cells": [
  {
   "attachments": {},
   "cell_type": "markdown",
   "id": "7a9b7d8d",
   "metadata": {},
   "source": [
    "# Import packages"
   ]
  },
  {
   "cell_type": "code",
   "execution_count": 1,
   "id": "457af97a",
   "metadata": {},
   "outputs": [],
   "source": [
    "import pywikibot\n",
    "\n",
    "import pandas as pd\n",
    "import numpy as np\n",
    "\n",
    "import random\n",
    "random.seed(16021997)\n",
    "from tqdm import tqdm\n",
    "import concurrent.futures\n",
    "from itertools import combinations\n",
    "from datetime import datetime\n",
    "\n",
    "import requests\n",
    "import bs4"
   ]
  },
  {
   "attachments": {},
   "cell_type": "markdown",
   "id": "7a587a42",
   "metadata": {},
   "source": [
    "# Scrape table with list of Wikipedias by number of articles"
   ]
  },
  {
   "cell_type": "code",
   "execution_count": 2,
   "id": "ca082fb6",
   "metadata": {},
   "outputs": [],
   "source": [
    "res = requests.get(\"https://meta.wikimedia.org/wiki/List_of_Wikipedias\")\n",
    "soup = bs4.BeautifulSoup(res.text, 'html.parser')"
   ]
  },
  {
   "cell_type": "code",
   "execution_count": 3,
   "id": "b4f01d41",
   "metadata": {},
   "outputs": [],
   "source": [
    "table = soup.find('table', class_='wikitable')\n",
    "header_row = table.find('tr')\n",
    "headers = [header.text.strip() for header in header_row.find_all('th')]\n",
    "data_wikis = []"
   ]
  },
  {
   "cell_type": "code",
   "execution_count": 4,
   "id": "c66f7c6e",
   "metadata": {
    "scrolled": true
   },
   "outputs": [],
   "source": [
    "for row in table.find_all('tr'):\n",
    "    columns = row.find_all('td')\n",
    "    if columns:\n",
    "        column_data = [column.text.strip() for column in columns]\n",
    "        data_wikis.append(column_data)"
   ]
  },
  {
   "cell_type": "code",
   "execution_count": 5,
   "id": "02c95811",
   "metadata": {},
   "outputs": [],
   "source": [
    "df_wikis = pd.DataFrame(data_wikis, columns=headers)\n",
    "df_wikis.drop('№',axis=1,inplace=True)\n",
    "for col in ['Articles','All pages','Edits','Admins','Users','Active users','Files','Depth']:\n",
    "    df_wikis[col] = df_wikis[col].str.replace(',', '')\n",
    "    df_wikis[col] = df_wikis[col].astype(int)"
   ]
  },
  {
   "cell_type": "code",
   "execution_count": 6,
   "id": "90d37e7f",
   "metadata": {},
   "outputs": [],
   "source": [
    "df_wikis = df_wikis[(df_wikis.Wiki != 'ceb') & (df_wikis.Wiki != 'sv') & (df_wikis.Wiki != 'war')].reset_index(drop=True) # Dropping Cebuano, Swedish, and Waray"
   ]
  },
  {
   "cell_type": "code",
   "execution_count": 7,
   "id": "54317b8b",
   "metadata": {},
   "outputs": [],
   "source": [
    "nr_articles_by_wiki = dict(zip(df_wikis.head(20).Wiki,df_wikis.head(20).Articles))"
   ]
  },
  {
   "cell_type": "code",
   "execution_count": 8,
   "id": "34ae31a1",
   "metadata": {},
   "outputs": [],
   "source": [
    "wiki_language_mapping = dict(zip(df_wikis.head(20).Wiki,df_wikis.head(20).Language))"
   ]
  },
  {
   "cell_type": "code",
   "execution_count": 9,
   "id": "a9050e34",
   "metadata": {},
   "outputs": [
    {
     "data": {
      "text/html": [
       "<div>\n",
       "<style scoped>\n",
       "    .dataframe tbody tr th:only-of-type {\n",
       "        vertical-align: middle;\n",
       "    }\n",
       "\n",
       "    .dataframe tbody tr th {\n",
       "        vertical-align: top;\n",
       "    }\n",
       "\n",
       "    .dataframe thead th {\n",
       "        text-align: right;\n",
       "    }\n",
       "</style>\n",
       "<table border=\"1\" class=\"dataframe\">\n",
       "  <thead>\n",
       "    <tr style=\"text-align: right;\">\n",
       "      <th></th>\n",
       "      <th>Language</th>\n",
       "      <th>Language (local)</th>\n",
       "      <th>Wiki</th>\n",
       "      <th>Articles</th>\n",
       "      <th>All pages</th>\n",
       "      <th>Edits</th>\n",
       "      <th>Admins</th>\n",
       "      <th>Users</th>\n",
       "      <th>Active users</th>\n",
       "      <th>Files</th>\n",
       "      <th>Depth</th>\n",
       "    </tr>\n",
       "  </thead>\n",
       "  <tbody>\n",
       "    <tr>\n",
       "      <th>0</th>\n",
       "      <td>English</td>\n",
       "      <td>English</td>\n",
       "      <td>en</td>\n",
       "      <td>6674881</td>\n",
       "      <td>58432953</td>\n",
       "      <td>1157376624</td>\n",
       "      <td>898</td>\n",
       "      <td>45761953</td>\n",
       "      <td>116318</td>\n",
       "      <td>905325</td>\n",
       "      <td>1190</td>\n",
       "    </tr>\n",
       "    <tr>\n",
       "      <th>1</th>\n",
       "      <td>German</td>\n",
       "      <td>Deutsch</td>\n",
       "      <td>de</td>\n",
       "      <td>2812513</td>\n",
       "      <td>7760105</td>\n",
       "      <td>233420350</td>\n",
       "      <td>180</td>\n",
       "      <td>4176594</td>\n",
       "      <td>17079</td>\n",
       "      <td>127881</td>\n",
       "      <td>93</td>\n",
       "    </tr>\n",
       "    <tr>\n",
       "      <th>2</th>\n",
       "      <td>French</td>\n",
       "      <td>français</td>\n",
       "      <td>fr</td>\n",
       "      <td>2531823</td>\n",
       "      <td>12614699</td>\n",
       "      <td>205035197</td>\n",
       "      <td>152</td>\n",
       "      <td>4688933</td>\n",
       "      <td>17348</td>\n",
       "      <td>71266</td>\n",
       "      <td>257</td>\n",
       "    </tr>\n",
       "    <tr>\n",
       "      <th>3</th>\n",
       "      <td>Dutch</td>\n",
       "      <td>Nederlands</td>\n",
       "      <td>nl</td>\n",
       "      <td>2125560</td>\n",
       "      <td>4542605</td>\n",
       "      <td>64418852</td>\n",
       "      <td>34</td>\n",
       "      <td>1283781</td>\n",
       "      <td>3847</td>\n",
       "      <td>20</td>\n",
       "      <td>18</td>\n",
       "    </tr>\n",
       "    <tr>\n",
       "      <th>4</th>\n",
       "      <td>Russian</td>\n",
       "      <td>русский</td>\n",
       "      <td>ru</td>\n",
       "      <td>1924496</td>\n",
       "      <td>7723386</td>\n",
       "      <td>130999307</td>\n",
       "      <td>72</td>\n",
       "      <td>3409670</td>\n",
       "      <td>10292</td>\n",
       "      <td>244090</td>\n",
       "      <td>153</td>\n",
       "    </tr>\n",
       "    <tr>\n",
       "      <th>5</th>\n",
       "      <td>Spanish</td>\n",
       "      <td>español</td>\n",
       "      <td>es</td>\n",
       "      <td>1873414</td>\n",
       "      <td>7937147</td>\n",
       "      <td>151650031</td>\n",
       "      <td>59</td>\n",
       "      <td>6883855</td>\n",
       "      <td>15470</td>\n",
       "      <td>0</td>\n",
       "      <td>200</td>\n",
       "    </tr>\n",
       "    <tr>\n",
       "      <th>6</th>\n",
       "      <td>Italian</td>\n",
       "      <td>italiano</td>\n",
       "      <td>it</td>\n",
       "      <td>1816174</td>\n",
       "      <td>7747452</td>\n",
       "      <td>133860955</td>\n",
       "      <td>120</td>\n",
       "      <td>2397762</td>\n",
       "      <td>7953</td>\n",
       "      <td>130495</td>\n",
       "      <td>184</td>\n",
       "    </tr>\n",
       "    <tr>\n",
       "      <th>7</th>\n",
       "      <td>Egyptian Arabic</td>\n",
       "      <td>مصرى</td>\n",
       "      <td>arz</td>\n",
       "      <td>1618023</td>\n",
       "      <td>2075484</td>\n",
       "      <td>8160822</td>\n",
       "      <td>7</td>\n",
       "      <td>213510</td>\n",
       "      <td>213</td>\n",
       "      <td>1483</td>\n",
       "      <td>0</td>\n",
       "    </tr>\n",
       "    <tr>\n",
       "      <th>8</th>\n",
       "      <td>Polish</td>\n",
       "      <td>polski</td>\n",
       "      <td>pl</td>\n",
       "      <td>1572091</td>\n",
       "      <td>3623248</td>\n",
       "      <td>70528643</td>\n",
       "      <td>99</td>\n",
       "      <td>1245247</td>\n",
       "      <td>4307</td>\n",
       "      <td>260</td>\n",
       "      <td>33</td>\n",
       "    </tr>\n",
       "    <tr>\n",
       "      <th>9</th>\n",
       "      <td>Japanese</td>\n",
       "      <td>日本語</td>\n",
       "      <td>ja</td>\n",
       "      <td>1378332</td>\n",
       "      <td>4057659</td>\n",
       "      <td>95578498</td>\n",
       "      <td>41</td>\n",
       "      <td>2086006</td>\n",
       "      <td>14284</td>\n",
       "      <td>4513</td>\n",
       "      <td>89</td>\n",
       "    </tr>\n",
       "    <tr>\n",
       "      <th>10</th>\n",
       "      <td>Chinese</td>\n",
       "      <td>中文</td>\n",
       "      <td>zh</td>\n",
       "      <td>1363793</td>\n",
       "      <td>7423295</td>\n",
       "      <td>77531288</td>\n",
       "      <td>65</td>\n",
       "      <td>3361785</td>\n",
       "      <td>8291</td>\n",
       "      <td>64047</td>\n",
       "      <td>206</td>\n",
       "    </tr>\n",
       "    <tr>\n",
       "      <th>11</th>\n",
       "      <td>Vietnamese</td>\n",
       "      <td>Tiếng Việt</td>\n",
       "      <td>vi</td>\n",
       "      <td>1284672</td>\n",
       "      <td>19426461</td>\n",
       "      <td>70326136</td>\n",
       "      <td>18</td>\n",
       "      <td>915061</td>\n",
       "      <td>1932</td>\n",
       "      <td>25936</td>\n",
       "      <td>721</td>\n",
       "    </tr>\n",
       "    <tr>\n",
       "      <th>12</th>\n",
       "      <td>Ukrainian</td>\n",
       "      <td>українська</td>\n",
       "      <td>uk</td>\n",
       "      <td>1270105</td>\n",
       "      <td>4410967</td>\n",
       "      <td>39711727</td>\n",
       "      <td>51</td>\n",
       "      <td>696233</td>\n",
       "      <td>3506</td>\n",
       "      <td>111745</td>\n",
       "      <td>55</td>\n",
       "    </tr>\n",
       "    <tr>\n",
       "      <th>13</th>\n",
       "      <td>Arabic</td>\n",
       "      <td>العربية</td>\n",
       "      <td>ar</td>\n",
       "      <td>1209567</td>\n",
       "      <td>8135160</td>\n",
       "      <td>62853928</td>\n",
       "      <td>21</td>\n",
       "      <td>2438878</td>\n",
       "      <td>4445</td>\n",
       "      <td>51998</td>\n",
       "      <td>253</td>\n",
       "    </tr>\n",
       "    <tr>\n",
       "      <th>14</th>\n",
       "      <td>Portuguese</td>\n",
       "      <td>português</td>\n",
       "      <td>pt</td>\n",
       "      <td>1103978</td>\n",
       "      <td>5535210</td>\n",
       "      <td>65956890</td>\n",
       "      <td>53</td>\n",
       "      <td>2937456</td>\n",
       "      <td>8558</td>\n",
       "      <td>59648</td>\n",
       "      <td>191</td>\n",
       "    </tr>\n",
       "    <tr>\n",
       "      <th>15</th>\n",
       "      <td>Persian</td>\n",
       "      <td>فارسی</td>\n",
       "      <td>fa</td>\n",
       "      <td>966577</td>\n",
       "      <td>5525583</td>\n",
       "      <td>37329310</td>\n",
       "      <td>36</td>\n",
       "      <td>1230767</td>\n",
       "      <td>6671</td>\n",
       "      <td>86142</td>\n",
       "      <td>150</td>\n",
       "    </tr>\n",
       "    <tr>\n",
       "      <th>16</th>\n",
       "      <td>Catalan</td>\n",
       "      <td>català</td>\n",
       "      <td>ca</td>\n",
       "      <td>730133</td>\n",
       "      <td>1822508</td>\n",
       "      <td>32006761</td>\n",
       "      <td>29</td>\n",
       "      <td>453023</td>\n",
       "      <td>1174</td>\n",
       "      <td>11792</td>\n",
       "      <td>39</td>\n",
       "    </tr>\n",
       "    <tr>\n",
       "      <th>17</th>\n",
       "      <td>Serbian</td>\n",
       "      <td>српски / srpski</td>\n",
       "      <td>sr</td>\n",
       "      <td>671988</td>\n",
       "      <td>4029581</td>\n",
       "      <td>25911321</td>\n",
       "      <td>17</td>\n",
       "      <td>329491</td>\n",
       "      <td>862</td>\n",
       "      <td>38132</td>\n",
       "      <td>160</td>\n",
       "    </tr>\n",
       "    <tr>\n",
       "      <th>18</th>\n",
       "      <td>Indonesian</td>\n",
       "      <td>Bahasa Indonesia</td>\n",
       "      <td>id</td>\n",
       "      <td>652916</td>\n",
       "      <td>3548611</td>\n",
       "      <td>23720155</td>\n",
       "      <td>44</td>\n",
       "      <td>1413963</td>\n",
       "      <td>3264</td>\n",
       "      <td>48022</td>\n",
       "      <td>131</td>\n",
       "    </tr>\n",
       "    <tr>\n",
       "      <th>19</th>\n",
       "      <td>Korean</td>\n",
       "      <td>한국어</td>\n",
       "      <td>ko</td>\n",
       "      <td>638536</td>\n",
       "      <td>3093637</td>\n",
       "      <td>35045879</td>\n",
       "      <td>29</td>\n",
       "      <td>792198</td>\n",
       "      <td>1779</td>\n",
       "      <td>13218</td>\n",
       "      <td>167</td>\n",
       "    </tr>\n",
       "  </tbody>\n",
       "</table>\n",
       "</div>"
      ],
      "text/plain": [
       "           Language  Language (local) Wiki  Articles  All pages       Edits  \\\n",
       "0           English           English   en   6674881   58432953  1157376624   \n",
       "1            German           Deutsch   de   2812513    7760105   233420350   \n",
       "2            French          français   fr   2531823   12614699   205035197   \n",
       "3             Dutch        Nederlands   nl   2125560    4542605    64418852   \n",
       "4           Russian           русский   ru   1924496    7723386   130999307   \n",
       "5           Spanish           español   es   1873414    7937147   151650031   \n",
       "6           Italian          italiano   it   1816174    7747452   133860955   \n",
       "7   Egyptian Arabic              مصرى  arz   1618023    2075484     8160822   \n",
       "8            Polish            polski   pl   1572091    3623248    70528643   \n",
       "9          Japanese               日本語   ja   1378332    4057659    95578498   \n",
       "10          Chinese                中文   zh   1363793    7423295    77531288   \n",
       "11       Vietnamese        Tiếng Việt   vi   1284672   19426461    70326136   \n",
       "12        Ukrainian        українська   uk   1270105    4410967    39711727   \n",
       "13           Arabic           العربية   ar   1209567    8135160    62853928   \n",
       "14       Portuguese         português   pt   1103978    5535210    65956890   \n",
       "15          Persian             فارسی   fa    966577    5525583    37329310   \n",
       "16          Catalan            català   ca    730133    1822508    32006761   \n",
       "17          Serbian   српски / srpski   sr    671988    4029581    25911321   \n",
       "18       Indonesian  Bahasa Indonesia   id    652916    3548611    23720155   \n",
       "19           Korean               한국어   ko    638536    3093637    35045879   \n",
       "\n",
       "    Admins     Users  Active users   Files  Depth  \n",
       "0      898  45761953        116318  905325   1190  \n",
       "1      180   4176594         17079  127881     93  \n",
       "2      152   4688933         17348   71266    257  \n",
       "3       34   1283781          3847      20     18  \n",
       "4       72   3409670         10292  244090    153  \n",
       "5       59   6883855         15470       0    200  \n",
       "6      120   2397762          7953  130495    184  \n",
       "7        7    213510           213    1483      0  \n",
       "8       99   1245247          4307     260     33  \n",
       "9       41   2086006         14284    4513     89  \n",
       "10      65   3361785          8291   64047    206  \n",
       "11      18    915061          1932   25936    721  \n",
       "12      51    696233          3506  111745     55  \n",
       "13      21   2438878          4445   51998    253  \n",
       "14      53   2937456          8558   59648    191  \n",
       "15      36   1230767          6671   86142    150  \n",
       "16      29    453023          1174   11792     39  \n",
       "17      17    329491           862   38132    160  \n",
       "18      44   1413963          3264   48022    131  \n",
       "19      29    792198          1779   13218    167  "
      ]
     },
     "execution_count": 9,
     "metadata": {},
     "output_type": "execute_result"
    }
   ],
   "source": [
    "df_wikis.head(20)"
   ]
  },
  {
   "attachments": {},
   "cell_type": "markdown",
   "id": "8f451a13",
   "metadata": {},
   "source": [
    "# Extract language connections from a sample of pages"
   ]
  },
  {
   "attachments": {},
   "cell_type": "markdown",
   "id": "637f33b7",
   "metadata": {},
   "source": [
    "Each Wiki will be sampled in proportion to its # of articles."
   ]
  },
  {
   "cell_type": "code",
   "execution_count": 10,
   "id": "7457bd9a",
   "metadata": {},
   "outputs": [],
   "source": [
    "rescaling_factor = 0.003 # We'll sample only this proportion of pages from each wiki"
   ]
  },
  {
   "cell_type": "code",
   "execution_count": 11,
   "id": "ab69849f",
   "metadata": {},
   "outputs": [],
   "source": [
    "#nr_articles_by_wiki = {'it':100000}"
   ]
  },
  {
   "cell_type": "code",
   "execution_count": 12,
   "id": "55fbaf1c",
   "metadata": {},
   "outputs": [],
   "source": [
    "def process_article(site, article):\n",
    "    page = pywikibot.Page(site, article.title())\n",
    "    langlinks = [langlink.site.lang for langlink in page.langlinks() if langlink.site.lang in nr_articles_by_wiki.keys()]\n",
    "    try:\n",
    "        page_id = page.data_item()\n",
    "    except:\n",
    "        page_id = datetime.now().strftime(\"%H:%M:%S.%f\")\n",
    "    return page_id, langlinks + [site.code], len(page.text)"
   ]
  },
  {
   "cell_type": "code",
   "execution_count": 13,
   "id": "71244969",
   "metadata": {},
   "outputs": [
    {
     "data": {
      "text/plain": [
       "'dict_data = {}\\nfor wiki_version, nr_articles in tqdm(nr_articles_by_wiki.items(), desc=\\'Outer loop\\'):\\n    site = pywikibot.Site(wiki_version, \"wikipedia\")\\n    sampled_articles = list(site.randompages(total=max(int(nr_articles * rescaling_factor), 1), namespaces=[0])) # We want to select at least one article per Wiki\\n\\n    for article in tqdm(sampled_articles, desc=\\'Inner loop\\'):\\n        page = pywikibot.Page(site, article.title())\\n        langlinks = [langlink.site.lang for langlink in page.langlinks()]\\n        dict_data[page.data_item()] = langlinks + [wiki_version]'"
      ]
     },
     "execution_count": 13,
     "metadata": {},
     "output_type": "execute_result"
    }
   ],
   "source": [
    "# Slow code version\n",
    "'''dict_data = {}\n",
    "for wiki_version, nr_articles in tqdm(nr_articles_by_wiki.items(), desc='Outer loop'):\n",
    "    site = pywikibot.Site(wiki_version, \"wikipedia\")\n",
    "    sampled_articles = list(site.randompages(total=max(int(nr_articles * rescaling_factor), 1), namespaces=[0])) # We want to select at least one article per Wiki\n",
    "\n",
    "    for article in tqdm(sampled_articles, desc='Inner loop'):\n",
    "        page = pywikibot.Page(site, article.title())\n",
    "        langlinks = [langlink.site.lang for langlink in page.langlinks()]\n",
    "        dict_data[page.data_item()] = langlinks + [wiki_version]'''"
   ]
  },
  {
   "cell_type": "code",
   "execution_count": 1,
   "id": "6b57e183",
   "metadata": {
    "scrolled": true
   },
   "outputs": [
    {
     "data": {
      "text/plain": [
       "'dict_data = {}\\n\\nwith concurrent.futures.ThreadPoolExecutor() as executor:\\n    for wiki_version, nr_articles in tqdm(nr_articles_by_wiki.items(), desc=\\'Outer loop\\'):\\n        site = pywikibot.Site(wiki_version, \"wikipedia\")\\n        sampled_articles = list(site.randompages(total=max(int(nr_articles * rescaling_factor), 1), namespaces=[0])) # We want to select at least one article per Wiki\\n\\n        future_to_article = {executor.submit(process_article, site, article): article for article in sampled_articles}\\n\\n        for future in tqdm(concurrent.futures.as_completed(future_to_article), desc=\\'Inner loop\\', total=len(future_to_article)):\\n            article = future_to_article[future]\\n            result = future.result()\\n            dict_data[result[0]] = [result[1], result[2]]'"
      ]
     },
     "execution_count": 1,
     "metadata": {},
     "output_type": "execute_result"
    }
   ],
   "source": [
    "# Fast code version\n",
    "dict_data = {}\n",
    "\n",
    "with concurrent.futures.ThreadPoolExecutor() as executor:\n",
    "    for wiki_version, nr_articles in tqdm(nr_articles_by_wiki.items(), desc='Outer loop'):\n",
    "        site = pywikibot.Site(wiki_version, \"wikipedia\")\n",
    "        sampled_articles = list(site.randompages(total=max(int(nr_articles * rescaling_factor), 1), namespaces=[0])) # We want to select at least one article per Wiki\n",
    "\n",
    "        future_to_article = {executor.submit(process_article, site, article): article for article in sampled_articles}\n",
    "\n",
    "        for future in tqdm(concurrent.futures.as_completed(future_to_article), desc='Inner loop', total=len(future_to_article)):\n",
    "            article = future_to_article[future]\n",
    "            result = future.result()\n",
    "            dict_data[result[0]] = [result[1], result[2]]"
   ]
  },
  {
   "attachments": {},
   "cell_type": "markdown",
   "id": "60724a5d",
   "metadata": {},
   "source": [
    "# Prepare network data (size of nodes and links) and save it"
   ]
  },
  {
   "attachments": {},
   "cell_type": "markdown",
   "id": "cfca1d08",
   "metadata": {},
   "source": [
    "Create df of node sizes:"
   ]
  },
  {
   "cell_type": "code",
   "execution_count": null,
   "id": "49bd3f38",
   "metadata": {},
   "outputs": [],
   "source": [
    "df_wikis.to_csv('raw/Node sizes.csv')"
   ]
  },
  {
   "attachments": {},
   "cell_type": "markdown",
   "id": "48609db4",
   "metadata": {},
   "source": [
    "Create df of language pairs:"
   ]
  },
  {
   "cell_type": "code",
   "execution_count": null,
   "id": "74dcdb7f",
   "metadata": {},
   "outputs": [],
   "source": [
    "value_combinations = list(combinations(wiki_language_mapping.values(), 2))\n",
    "df_connections = pd.DataFrame(value_combinations, columns=['lang_1','lang_2'])\n",
    "df_connections.drop_duplicates(inplace=True)\n",
    "df_connections['weight'] = 0\n",
    "df_connections.reset_index(drop=True, inplace=True)"
   ]
  },
  {
   "attachments": {},
   "cell_type": "markdown",
   "id": "f829ec57",
   "metadata": {},
   "source": [
    "Process the data and add it to the dataframe:"
   ]
  },
  {
   "cell_type": "code",
   "execution_count": null,
   "id": "6864fac5",
   "metadata": {},
   "outputs": [],
   "source": [
    "dict_data_final = {key: value for key, value[0] in dict_data.items() if len(value[0]) <= 4} # keeping only articles with at most 4 languages"
   ]
  },
  {
   "cell_type": "code",
   "execution_count": null,
   "id": "82dc3533",
   "metadata": {},
   "outputs": [],
   "source": [
    "len(dict_data_final)"
   ]
  },
  {
   "cell_type": "code",
   "execution_count": null,
   "id": "fa0bd02e",
   "metadata": {},
   "outputs": [],
   "source": [
    "for languages in dict_data_final.values():\n",
    "    languages_full_names = [wiki_language_mapping[language] for language in languages]\n",
    "    for row in range(len(df_connections)):\n",
    "        if df_connections.loc[row,'lang_1'] in languages_full_names and df_connections.loc[row,'lang_2'] in languages_full_names:\n",
    "            df_connections.loc[row,'weight'] += 1"
   ]
  },
  {
   "cell_type": "code",
   "execution_count": null,
   "id": "a95d18d4",
   "metadata": {},
   "outputs": [],
   "source": [
    "df_connections"
   ]
  },
  {
   "cell_type": "code",
   "execution_count": null,
   "id": "8948756d",
   "metadata": {},
   "outputs": [],
   "source": [
    "df_connections.to_csv('raw/Edges.csv')"
   ]
  },
  {
   "attachments": {},
   "cell_type": "markdown",
   "id": "4d5da4fc",
   "metadata": {},
   "source": [
    "Create a second dataframe of connections - long articles only:"
   ]
  },
  {
   "cell_type": "code",
   "execution_count": null,
   "id": "eede1b12",
   "metadata": {},
   "outputs": [],
   "source": [
    "dict_data_final2 = {key: value for key, value[0] in dict_data.items() if len(value[0]) <= 4} "
   ]
  },
  {
   "cell_type": "code",
   "execution_count": null,
   "id": "bf000f97",
   "metadata": {},
   "outputs": [],
   "source": [
    "for languages in dict_data_final2.values():\n",
    "    languages_full_names = [wiki_language_mapping[language] for language in languages]\n",
    "    for row in range(len(df_connections2)):\n",
    "        if df_connections2.loc[row,'lang_1'] in languages_full_names and df_connections2.loc[row,'lang_2'] in languages_full_names:\n",
    "            df_connections2.loc[row,'weight'] += 1"
   ]
  },
  {
   "cell_type": "code",
   "execution_count": null,
   "id": "6e8edcd7",
   "metadata": {},
   "outputs": [],
   "source": [
    "df_connections2.to_csv('raw/Edges - long articles only.csv')"
   ]
  }
 ],
 "metadata": {
  "kernelspec": {
   "display_name": "Python 3 (ipykernel)",
   "language": "python",
   "name": "python3"
  },
  "language_info": {
   "codemirror_mode": {
    "name": "ipython",
    "version": 3
   },
   "file_extension": ".py",
   "mimetype": "text/x-python",
   "name": "python",
   "nbconvert_exporter": "python",
   "pygments_lexer": "ipython3",
   "version": "3.10.9"
  },
  "toc": {
   "base_numbering": 1,
   "nav_menu": {},
   "number_sections": true,
   "sideBar": true,
   "skip_h1_title": false,
   "title_cell": "Table of Contents",
   "title_sidebar": "Contents",
   "toc_cell": false,
   "toc_position": {},
   "toc_section_display": true,
   "toc_window_display": false
  }
 },
 "nbformat": 4,
 "nbformat_minor": 5
}
